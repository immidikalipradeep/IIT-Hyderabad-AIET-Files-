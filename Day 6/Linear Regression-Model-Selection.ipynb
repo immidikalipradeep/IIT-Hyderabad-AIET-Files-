{
 "cells": [
  {
   "cell_type": "code",
   "execution_count": 1,
   "metadata": {},
   "outputs": [],
   "source": [
    "import numpy as np"
   ]
  },
  {
   "cell_type": "markdown",
   "metadata": {},
   "source": [
    "### Generating data 'X' ranges between -10 to 10 \n",
    "### 'Y' is a linear combination of parameters as Y = ax+b+gaussian(0,epsilon)"
   ]
  },
  {
   "cell_type": "code",
   "execution_count": 2,
   "metadata": {},
   "outputs": [],
   "source": [
    "W0_true = 11;W1_true = 4.5\n",
    "W2_true = 3;W3_true = 4\n",
    "Number_of_points = 1000\n",
    "Number_of_training = int(Number_of_points*0.8)\n",
    "Number_of_testing = int(Number_of_points*0.2)"
   ]
  },
  {
   "cell_type": "code",
   "execution_count": 3,
   "metadata": {},
   "outputs": [],
   "source": [
    "def generate_data(Order):  \n",
    "    W0 =  W0_true; W1 = W1_true; W2 = W2_true; W3 = W3_true\n",
    "    if Order == 1:\n",
    "        W2 = 0;W3 = 0\n",
    "    elif Order == 2:\n",
    "        W3 = 0\n",
    "    X_data = np.linspace(-10,10,Number_of_points)\n",
    "    Y_data = W3*np.power(X_data,3)+W2*X_data**2 + W1*X_data + W0 + np.random.normal(0,0.5,Number_of_points)\n",
    "    return X_data,Y_data\n"
   ]
  },
  {
   "cell_type": "markdown",
   "metadata": {},
   "source": [
    "### Fitting a 1st order polynomial  of type y = W0 + W1*x. \n",
    "We want to learn the parameters W0 and W1. Lets initialize W0 and W1 with random values"
   ]
  },
  {
   "cell_type": "code",
   "execution_count": 4,
   "metadata": {},
   "outputs": [],
   "source": [
    "def split_data(X_data,Y_data):\n",
    "    index = np.random.permutation(Number_of_points)\n",
    "    \n",
    "    X_train = X_data[index[:Number_of_training]] \n",
    "    Y_train = Y_data[index[:Number_of_training]]\n",
    "    \n",
    "    X_test = X_data[index[Number_of_training:]]\n",
    "    Y_test = Y_data[index[Number_of_training:]]\n",
    "    \n",
    "    return X_train,Y_train,X_test,Y_test\n",
    "    "
   ]
  },
  {
   "cell_type": "markdown",
   "metadata": {},
   "source": [
    "### Plot the data points"
   ]
  },
  {
   "cell_type": "code",
   "execution_count": 5,
   "metadata": {},
   "outputs": [],
   "source": [
    "import matplotlib.pyplot as plt\n",
    "def plot(x,y,title):\n",
    "    fig,(ax1) = plt.subplots(1)\n",
    "    if title!='Loss':\n",
    "        ax1.plot(x,y,'x')\n",
    "    else:\n",
    "        ax1.plot(x,y)\n",
    "        \n",
    "    ax1.set_title(title, fontdict={'fontsize': 15, 'fontweight': 'medium'})\n",
    "def plot_curve(x,y,W,title):\n",
    "    fig,(ax1) = plt.subplots(1)\n",
    "    ax1.plot(x,y,'x')\n",
    "    ax1.set_title(title, fontdict={'fontsize': 15, 'fontweight': 'medium'})\n",
    "    y = W[0] + W[1]*x +W[2]*x**2 + W[3]*x**3\n",
    "    ax1.plot(x,y,'o')\n",
    "    \n",
    "\n",
    "    \n"
   ]
  },
  {
   "cell_type": "code",
   "execution_count": 6,
   "metadata": {},
   "outputs": [],
   "source": [
    "\n",
    "def compute_loss(x,y,W):\n",
    "    return np.sum(np.power(W[0]+W[1]*x+W[2]*x**2  +W[3]*np.power(x,3) - y,2))/(2.0*x.shape[0])\n",
    "    "
   ]
  },
  {
   "cell_type": "markdown",
   "metadata": {},
   "source": [
    "### Learning the parameters of the model for some 'N' epochs, by minimizing squared-difference error\n",
    "$L(W) = \\frac{1}{2}\\Sigma_{n=1}^{N}(W^Tx_i - y_i)^2$"
   ]
  },
  {
   "cell_type": "code",
   "execution_count": 7,
   "metadata": {
    "scrolled": false
   },
   "outputs": [],
   "source": [
    "\n",
    "def fit(X_train,Y_train,Order,Epochs,learning_rate,Plot):\n",
    "    N = X_train.shape[0]\n",
    "    Loss = []\n",
    "    X = np.ones((Order+1,N)) #A matrix of size mxn, features x Sample_Size\n",
    "    W = np.zeros((4,1))\n",
    "    for i in range(Order+1):\n",
    "        X[i,:] = X_train**i\n",
    "        W[i,0] = np.random.normal(0,0.2,1)\n",
    "\n",
    "    for epoch in range(Epochs):\n",
    "        for i in range(Order+1):\n",
    "            dW = np.sum((np.matmul(np.transpose(W[:Order+1]),X) - Y_train)*X[i,:])\n",
    "            W[i,0] = W[i,0] - learning_rate*dW/N\n",
    "        Loss.append(compute_loss(X_train,Y_train,W))\n",
    "        if epoch%50==0 and Plot == True:        \n",
    "            \n",
    "            print(\"Epoch : \"+str(epoch)+\"\\\\\"+str(Epochs) + \" Train loss: \"+str(compute_loss(X_train,Y_train,W)))\n",
    "            plot_curve(X_train,Y_train,W,'Training')\n",
    "\n",
    "    if Plot==True:\n",
    "        plot(range(len(Loss)),Loss,'Loss')\n",
    "    return W\n",
    "    \n",
    "        \n",
    "    \n",
    "        \n"
   ]
  },
  {
   "cell_type": "markdown",
   "metadata": {},
   "source": [
    "#### Generating and Splitting the data\n",
    "1. generate_data(order) samples data from a polynomial of 'order' passed as a n argument\n",
    "2. split_data(X,Y), splits the data into training and testing "
   ]
  },
  {
   "cell_type": "code",
   "execution_count": 8,
   "metadata": {},
   "outputs": [
    {
     "name": "stdout",
     "output_type": "stream",
     "text": [
      "(8,)\n"
     ]
    },
    {
     "data": {
      "image/png": "[encoded data removed]",
      "text/plain": [
       "<Figure size 432x288 with 1 Axes>"
      ]
     },
     "metadata": {
      "needs_background": "light"
     },
     "output_type": "display_data"
    }
   ],
   "source": [
    "gen_order = 2 #1,2,3\n",
    "X_data , Y_data = generate_data(gen_order)\n",
    "X_train,Y_train,X_test,Y_test = split_data(X_data,Y_data)\n",
    "print(X_train.shape)\n",
    "plot(X_train[0:10],Y_train[0:10],'Few data points')"
   ]
  },
  {
   "cell_type": "code",
   "execution_count": null,
   "metadata": {
    "scrolled": false
   },
   "outputs": [],
   "source": [
    "fit_order = 2 #1,2,3\n",
    "learning_rate = [ 0.001 ,0.0001, 0.00001]\n",
    "Epochs = 1000\n",
    "W = fit(X_train,Y_train,fit_order,Epochs,learning_rate[fit_order-1],True)\n",
    "\n",
    "print(\"Final parameter values  : W0 = \"+str(W[0])+\" , W1 = \"+str(W[1])+\", W2 = \"+str(W[2])+\", W3 = \"+str(W[3]))\n",
    "print(\"Test_loss : \"+str(compute_loss(X_test,Y_test,W)))"
   ]
  },
  {
   "cell_type": "code",
   "execution_count": 30,
   "metadata": {},
   "outputs": [],
   "source": [
    "def validation_set(X_train,Y_train,start,end):\n",
    "    X_valid = X_train[start:end]\n",
    "    Y_valid = Y_train[start:end]\n",
    "    \n",
    "    X_train1 = X_train[0:start]\n",
    "    X_train1 = np.concatenate((X_train1,X_train[end:]))\n",
    "    \n",
    "    Y_train1 = Y_train[0:start]\n",
    "    Y_train1 = np.concatenate((Y_train1,Y_train[end:]))\n",
    "    \n",
    "    return X_train1,Y_train1,X_valid,Y_valid\n",
    "    \n",
    "    \n",
    "    \n",
    "    "
   ]
  },
  {
   "cell_type": "markdown",
   "metadata": {},
   "source": [
    "### We are performing a 5-fold cross validation  to select a model"
   ]
  },
  {
   "cell_type": "code",
   "execution_count": 33,
   "metadata": {},
   "outputs": [
    {
     "name": "stdout",
     "output_type": "stream",
     "text": [
      "For data generated using  2 order polynomial, best order polynomial is  2 \n"
     ]
    }
   ],
   "source": [
    "K = 5\n",
    "valid_size = int(Number_of_training * 0.2)\n",
    "Model_loss = np.zeros((3,1))\n",
    "for i in range(K):\n",
    "    #Splitting the training data into training and validation dataset\n",
    "    X_train1,Y_train1,X_valid,Y_valid  = validation_set(X_train,Y_train,valid_size*i,valid_size*(i+1))\n",
    "    for Order in range(1,4):\n",
    "        W = fit(X_train1,Y_train1,Order,Epochs,learning_rate[Order-1],False)\n",
    "        Model_loss[Order-1] += compute_loss(X_test,Y_test,W)\n",
    "Order = np.argmin(Model_loss)\n",
    "print(\"For data generated using %2d order polynomial, best order polynomial is %2d \"%(gen_order,Order+1))\n",
    "        \n",
    "        \n",
    "        \n",
    "    \n"
   ]
  },
  {
   "cell_type": "code",
   "execution_count": 34,
   "metadata": {},
   "outputs": [
    {
     "data": {
      "text/plain": [
       "array([[20692.73946518],\n",
       "       [  123.01030694],\n",
       "       [  348.48236566]])"
      ]
     },
     "execution_count": 34,
     "metadata": {},
     "output_type": "execute_result"
    }
   ],
   "source": [
    "Model_loss"
   ]
  },
  {
   "cell_type": "code",
   "execution_count": null,
   "metadata": {},
   "outputs": [],
   "source": []
  }
 ],
 "metadata": {
  "kernelspec": {
   "display_name": "Python 3",
   "language": "python",
   "name": "python3"
  },
  "language_info": {
   "codemirror_mode": {
    "name": "ipython",
    "version": 3
   },
   "file_extension": ".py",
   "mimetype": "text/x-python",
   "name": "python",
   "nbconvert_exporter": "python",
   "pygments_lexer": "ipython3",
   "version": "3.5.2"
  }
 },
 "nbformat": 4,
 "nbformat_minor": 2
}
