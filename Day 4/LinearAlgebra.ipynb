{
  "nbformat": 4,
  "nbformat_minor": 0,
  "metadata": {
    "colab": {
      "name": "LinearAlgebra.ipynb",
      "version": "0.3.2",
      "provenance": [],
      "collapsed_sections": []
    },
    "kernelspec": {
      "name": "python3",
      "display_name": "Python 3"
    }
  },
  "cells": [
    {
      "cell_type": "markdown",
      "metadata": {
        "id": "UY6uVCD4_RN-",
        "colab_type": "text"
      },
      "source": [
        "Wecome to Linear Algebra tutorial. We will see how to calculate norms, eigen values and eigen vectors using numpy.\n",
        "\n",
        "\n",
        "**Norms:** \n",
        "1.   Vector Norms\n",
        "  * L2 Norm\n",
        "  * L1 Norm\n",
        "  * Max Norm\n",
        "\n",
        "2.   Matrix Norm\n",
        "\n"
      ]
    },
    {
      "cell_type": "markdown",
      "metadata": {
        "id": "7PdPHqH6bUqh",
        "colab_type": "text"
      },
      "source": [
        "# L2 Norm:\n",
        "The L2 norm that is calculated as the square root of the sum of the squared vector values."
      ]
    },
    {
      "cell_type": "code",
      "metadata": {
        "id": "UC7a4c2m-xKv",
        "colab_type": "code",
        "outputId": "fe7e6c15-e993-48b6-e601-8ad50f43fcf0",
        "colab": {
          "base_uri": "https://localhost:8080/",
          "height": 69
        }
      },
      "source": [
        "# l2 norm of a vector\n",
        "import numpy as np\n",
        "x = np.array([1,2,3]) \n",
        "print(x)\n",
        "x_l2 = np.sqrt(np.dot(x,x))\n",
        "print(x_l2)\n",
        "x_l2 = np.linalg.norm(x,2)\n",
        "print(x_l2)"
      ],
      "execution_count": 0,
      "outputs": [
        {
          "output_type": "stream",
          "text": [
            "[1 2 3]\n",
            "3.7416573867739413\n",
            "3.7416573867739413\n"
          ],
          "name": "stdout"
        }
      ]
    },
    {
      "cell_type": "markdown",
      "metadata": {
        "id": "6areGDYOckSX",
        "colab_type": "text"
      },
      "source": [
        "# L1 Norm:\n",
        "The L1 norm that is calculated as the sum of the absolute values of the vector"
      ]
    },
    {
      "cell_type": "code",
      "metadata": {
        "id": "XeETmxipf3z9",
        "colab_type": "code",
        "outputId": "f3ad44d7-a311-444e-bfbd-da93e4b86d98",
        "colab": {
          "base_uri": "https://localhost:8080/",
          "height": 52
        }
      },
      "source": [
        "import numpy as np\n",
        "x = np.array([1,2,-3])\n",
        "l1 = np.sum(np.abs(x))\n",
        "print(l1)\n",
        "x_l1 = np.linalg.norm(x,1)\n",
        "print(x_l1)"
      ],
      "execution_count": 0,
      "outputs": [
        {
          "output_type": "stream",
          "text": [
            "6\n",
            "6.0\n"
          ],
          "name": "stdout"
        }
      ]
    },
    {
      "cell_type": "markdown",
      "metadata": {
        "id": "eJEsofh2feYu",
        "colab_type": "text"
      },
      "source": [
        "# Max Norm:\n",
        "The max norm that is calculated as the maximum vector values."
      ]
    },
    {
      "cell_type": "code",
      "metadata": {
        "id": "F9KAIjgEfuEl",
        "colab_type": "code",
        "outputId": "105dcf73-1632-4229-b8b3-e4d379cc71a9",
        "colab": {
          "base_uri": "https://localhost:8080/",
          "height": 52
        }
      },
      "source": [
        "import numpy as np\n",
        "x = np.array([1,2,-3])\n",
        "l2 = np.max(np.abs(x))\n",
        "print(l2)\n",
        "x_lm = np.linalg.norm(x,np.inf)\n",
        "print(x_lm)"
      ],
      "execution_count": 0,
      "outputs": [
        {
          "output_type": "stream",
          "text": [
            "3\n",
            "3.0\n"
          ],
          "name": "stdout"
        }
      ]
    },
    {
      "cell_type": "markdown",
      "metadata": {
        "id": "JwFf4Rw9lsN4",
        "colab_type": "text"
      },
      "source": [
        "We can apply this on matrices as well using axis argument."
      ]
    },
    {
      "cell_type": "code",
      "metadata": {
        "id": "IaLFh5-2lopt",
        "colab_type": "code",
        "colab": {}
      },
      "source": [
        "import numpy as np\n",
        "c = np.array([[ 1, -2],[-1, 1]])\n",
        "print(np.linalg.norm(c,2,axis = 0))\n",
        "print(np.linalg.norm(c,2,axis = 1))\n",
        "\n",
        " # Column wise Normalization\n",
        "c_cnorm = np.linalg.norm(c,2,axis = 0)\n",
        "print(np.divide(c,c_cnorm))\n",
        "\n",
        "#Row wise NOrmalization\n",
        "c_rnorm = np.linalg.norm(c,2,axis = 1)\n",
        "print(np.divide(c,c_rnorm[:,None]))\n"
      ],
      "execution_count": 0,
      "outputs": []
    },
    {
      "cell_type": "markdown",
      "metadata": {
        "id": "YCAjJmXloeUr",
        "colab_type": "text"
      },
      "source": [
        "# Matrix Norms:\n"
      ]
    },
    {
      "cell_type": "code",
      "metadata": {
        "id": "8rNyQ33smX2_",
        "colab_type": "code",
        "colab": {}
      },
      "source": [
        "import numpy as np\n",
        "c = np.array([[ 1, -2],[-1, 1]])\n",
        "print(np.linalg.norm(c,'fro'))\n",
        "print(np.sqrt(7))\n",
        "print(np.linalg.norm(c,'nuc'))"
      ],
      "execution_count": 0,
      "outputs": []
    },
    {
      "cell_type": "markdown",
      "metadata": {
        "id": "8O_qrX8AvG2y",
        "colab_type": "text"
      },
      "source": [
        "# Distance and RMS:"
      ]
    },
    {
      "cell_type": "code",
      "metadata": {
        "id": "wAa1dRFxtj8_",
        "colab_type": "code",
        "colab": {}
      },
      "source": [
        "# l2 distance between two points\n",
        "import numpy as np\n",
        "x = np.array([1,2]) \n",
        "print(x)\n",
        "y = np.array([2,1]) \n",
        "print(y)\n",
        "l2_distance = np.linalg.norm(x-y,2)\n",
        "print(l2_distance)"
      ],
      "execution_count": 0,
      "outputs": []
    },
    {
      "cell_type": "code",
      "metadata": {
        "id": "l4P9fl-xvknp",
        "colab_type": "code",
        "colab": {}
      },
      "source": [
        "# Rms value of a vector \n",
        "import numpy as np\n",
        "x = np.array([1,2])\n",
        "print(x)\n",
        "x_rms = np.linalg.norm(x,2)/np.sqrt(np.size(x))\n",
        "print(x_rms)\n",
        "\n",
        "# Rms distance of a vector \n",
        "y = np.array([2,1]) \n",
        "print(y)\n",
        "\n",
        "rms_distance = np.linalg.norm(x-y,2)/np.sqrt(np.size(x))\n",
        "print(rms_distance)"
      ],
      "execution_count": 0,
      "outputs": []
    },
    {
      "cell_type": "markdown",
      "metadata": {
        "id": "vbUAu-5_yXkp",
        "colab_type": "text"
      },
      "source": [
        "# Eigen Values and Eigen Vectors:"
      ]
    },
    {
      "cell_type": "code",
      "metadata": {
        "id": "6hKJFB-6w4aB",
        "colab_type": "code",
        "colab": {}
      },
      "source": [
        "import numpy as np\n",
        "x = np.reshape(np.arange(1,10),[3,3])\n",
        "print(x)"
      ],
      "execution_count": 0,
      "outputs": []
    },
    {
      "cell_type": "code",
      "metadata": {
        "id": "b5uJ21lpC-hQ",
        "colab_type": "code",
        "colab": {}
      },
      "source": [
        "# Eigen Values and Eigen Vectors Computation\n",
        "eValues,eVectors = np.linalg.eig(x)\n",
        "print(eValues)\n",
        "print(eVectors)"
      ],
      "execution_count": 0,
      "outputs": []
    },
    {
      "cell_type": "code",
      "metadata": {
        "id": "5__GFpKRDUas",
        "colab_type": "code",
        "colab": {}
      },
      "source": [
        "# Verify Eigen Vector\n",
        "print(np.dot(x,eVectors[:,0]))\n",
        "print(eValues[0]*eVectors[:,0])\n"
      ],
      "execution_count": 0,
      "outputs": []
    },
    {
      "cell_type": "code",
      "metadata": {
        "id": "Z470aPPyHobL",
        "colab_type": "code",
        "colab": {}
      },
      "source": [
        "y = np.dot(np.dot(eVectors,np.diag(eValues)),np.linalg.inv(eVectors)) \n",
        "print(y)"
      ],
      "execution_count": 0,
      "outputs": []
    },
    {
      "cell_type": "code",
      "metadata": {
        "id": "iOwpFa6mJYyy",
        "colab_type": "code",
        "colab": {}
      },
      "source": [
        ""
      ],
      "execution_count": 0,
      "outputs": []
    }
  ]
}