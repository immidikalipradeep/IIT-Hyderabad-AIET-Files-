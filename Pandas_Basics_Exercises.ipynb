{
  "nbformat": 4,
  "nbformat_minor": 0,
  "metadata": {
    "colab": {
      "name": "Pandas Basics.ipynb",
      "version": "0.3.2",
      "provenance": [],
      "private_outputs": true,
      "collapsed_sections": []
    },
    "language_info": {
      "name": "python",
      "version": "3.6.6",
      "mimetype": "text/x-python",
      "codemirror_mode": {
        "name": "ipython",
        "version": 3
      },
      "pygments_lexer": "ipython3",
      "nbconvert_exporter": "python",
      "file_extension": ".py"
    },
    "kernelspec": {
      "name": "python3",
      "display_name": "Python 3"
    }
  },
  "cells": [
    {
      "cell_type": "markdown",
      "metadata": {
        "_uuid": "2c419670dda85261d9c044ec44ad8e3209462397",
        "id": "Gd-wikoLOEKD",
        "colab_type": "text"
      },
      "source": [
        "# Introduction\n",
        "The first step in most data analytics projects is reading the data file. In this section, you'll create `Series` and `DataFrame` objects, both by hand and by reading data files.\n",
        "\n",
        "*Note:* This notebook is heavily inspired from Pandas course at Kaggle Learn.\n",
        "\n",
        "# Relevant Resources\n",
        "* [General Pandas Cheat Sheet](https://assets.datacamp.com/blog_assets/PandasPythonForDataScience.pdf)\n",
        "\n",
        "\n",
        "Run the code cell below to load libraries / packages you will need"
      ]
    },
    {
      "cell_type": "code",
      "metadata": {
        "trusted": true,
        "_uuid": "ee6ffa4d5dc599378629960607b0df4bf4c990ff",
        "id": "IezwEB-GOEKE",
        "colab_type": "code",
        "colab": {}
      },
      "source": [
        "import pandas as pd"
      ],
      "execution_count": 0,
      "outputs": []
    },
    {
      "cell_type": "markdown",
      "metadata": {
        "_uuid": "57fc6a3d7976daeddd29bdc0a07bc58f8afdbb35",
        "id": "m9lRvcikOEKL",
        "colab_type": "text"
      },
      "source": [
        "In the cell below, create a DataFrame `fruits` that looks like this:\n",
        "\n",
        "![](https://i.imgur.com/Ax3pp2A.png)"
      ]
    },
    {
      "cell_type": "code",
      "metadata": {
        "trusted": true,
        "_uuid": "ac7f8ccb24c3b10c11d0b0fef91692e5aa7fa7a2",
        "id": "VzLCaz9POEKM",
        "colab_type": "code",
        "colab": {}
      },
      "source": [
        "# Creating a dataframe matching the above diagram and assigning it to the variable named fruits.\n",
        "fruits = pd.DataFrame({'Apples': [30], 'Bananas': [21]})\n",
        "fruits"
      ],
      "execution_count": 0,
      "outputs": []
    },
    {
      "cell_type": "markdown",
      "metadata": {
        "_uuid": "61110166df873cf2003a23b4798ed1f00055f251",
        "id": "QtVbOvDVOEKR",
        "colab_type": "text"
      },
      "source": [
        "Create a dataframe `fruit_sales` that matches the diagram below:\n",
        "\n",
        "![](https://i.imgur.com/CHPn7ZF.png)"
      ]
    },
    {
      "cell_type": "code",
      "metadata": {
        "trusted": true,
        "_uuid": "d9257967f36595e3269bb84684492e24def68cca",
        "id": "TRc7V7fXOEKR",
        "colab_type": "code",
        "colab": {}
      },
      "source": [
        "## Create a dataframe matching the above diagram and assign it to the variable fruit_sales.\n",
        "## Hint: Use index parameter for the left most columns.\n",
        "fruit_sales = \n",
        "fruit_sales"
      ],
      "execution_count": 0,
      "outputs": []
    },
    {
      "cell_type": "markdown",
      "metadata": {
        "_uuid": "abdaa33c44a856e03a9e284a8a1cc57807818879",
        "id": "rAjddyYZOEKV",
        "colab_type": "text"
      },
      "source": [
        "Create a variable called `ingredients` with a `pd.Series` that looks like:\n",
        "\n",
        "```\n",
        "Flour     4 cups\n",
        "Milk       1 cup\n",
        "Eggs     2 large\n",
        "Spam       1 can\n",
        "Name: Dinner, dtype: object\n",
        "```"
      ]
    },
    {
      "cell_type": "code",
      "metadata": {
        "trusted": true,
        "_uuid": "c860fe2e95c579aff81b8fa634809f405c92ed68",
        "id": "5xgxQMVVOEKW",
        "colab_type": "code",
        "colab": {}
      },
      "source": [
        "ingredients = pd.Series(['4 cups','1 cup','2 large', '1 can'], index=['Flour', 'Milk', 'Eggs', 'Spam'], name='Dinner')\n",
        "\n",
        "ingredients"
      ],
      "execution_count": 0,
      "outputs": []
    },
    {
      "cell_type": "markdown",
      "metadata": {
        "id": "UHhKqsL9_SSN",
        "colab_type": "text"
      },
      "source": [
        "### Downloading files to Colab\n",
        "\n",
        "Use tool called **wget** with terminal command \"!\""
      ]
    },
    {
      "cell_type": "code",
      "metadata": {
        "id": "s8RSsX8ZPZFo",
        "colab_type": "code",
        "colab": {}
      },
      "source": [
        "# Downloading a file to colab:\n",
        "!wget https://gist.github.com/tdchaitanya/d84c787328df169c50a06eb1669666c9/raw/7ffeddc80bec1c22e91bfed6e026620cf989eacf/housing_data.csv"
      ],
      "execution_count": 0,
      "outputs": []
    },
    {
      "cell_type": "markdown",
      "metadata": {
        "_uuid": "ac112527073f61eff60232a912608c7d500873f8",
        "id": "M--a54XJOEKb",
        "colab_type": "text"
      },
      "source": [
        "### Loading CSV files to Pandas\n",
        "\n",
        "Read the following csv dataset of housing data into a DataFrame called `housing`:\n"
      ]
    },
    {
      "cell_type": "code",
      "metadata": {
        "trusted": true,
        "_uuid": "ff221b7f2e40f5ec710d186f930ff2ae52691f3c",
        "id": "Ow9YpbAVOEKd",
        "colab_type": "code",
        "colab": {}
      },
      "source": [
        "housing = pd.read_csv('housing_data.csv')\n",
        "\n",
        "housing.head()"
      ],
      "execution_count": 0,
      "outputs": []
    },
    {
      "cell_type": "markdown",
      "metadata": {
        "_uuid": "8160f6e6d403af708d74a340c1bb41345409a0ff",
        "id": "EtQ0RxHOOEKl",
        "colab_type": "text"
      },
      "source": [
        "Download and read another file called \"winemag-data-130k-v2.csv\" from \"https://github.com/davestroud/Wine/raw/master/winemag-data-130k-v2.csv\" to a variable called `reviews`."
      ]
    },
    {
      "cell_type": "code",
      "metadata": {
        "id": "WrPLOo8gQtAv",
        "colab_type": "code",
        "colab": {}
      },
      "source": [
        "## Download the data here.\n",
        "## Hint: use wget.\n"
      ],
      "execution_count": 0,
      "outputs": []
    },
    {
      "cell_type": "code",
      "metadata": {
        "id": "8eQ-xpf66-MN",
        "colab_type": "code",
        "colab": {}
      },
      "source": [
        "reviews = \n",
        "## Check if it looks okay, is there any problem?\n",
        "reviews.head()\n",
        "## Correct the problem below:\n",
        "reviews = \n",
        "reviews.head()"
      ],
      "execution_count": 0,
      "outputs": []
    },
    {
      "cell_type": "code",
      "metadata": {
        "id": "GzX2soJHRldB",
        "colab_type": "code",
        "colab": {}
      },
      "source": [
        "## Fetch the column called 'description' to a variable called desc:\n",
        "desc = \n",
        "\n",
        "## what type of object is desc? If you're not sure, you can check by calling Python's type function: type(desc)"
      ],
      "execution_count": 0,
      "outputs": []
    },
    {
      "cell_type": "code",
      "metadata": {
        "id": "tcd_4S50Rs0-",
        "colab_type": "code",
        "colab": {}
      },
      "source": [
        "## Select the first value from the description column of `reviews`, assigning it to variable `first_description`.\n",
        "first_description = \n",
        "\n",
        "first_description"
      ],
      "execution_count": 0,
      "outputs": []
    },
    {
      "cell_type": "markdown",
      "metadata": {
        "id": "6bf0RmZ1R5um",
        "colab_type": "text"
      },
      "source": [
        "Select the first row of data (the first record) from `reviews`, assigning it to the variable `first_row`."
      ]
    },
    {
      "cell_type": "code",
      "metadata": {
        "id": "3ZjxrDIQR8gL",
        "colab_type": "code",
        "colab": {}
      },
      "source": [
        "## Select the first row of data (the first record) from `reviews`, assigning it to the variable `first_row`.\n",
        "first_row = \n",
        "\n",
        "first_row"
      ],
      "execution_count": 0,
      "outputs": []
    },
    {
      "cell_type": "markdown",
      "metadata": {
        "id": "VpokIKcPSAaq",
        "colab_type": "text"
      },
      "source": [
        "Select the first 10 values from the `description` column in `reviews`, assigning the result to variable `first_descriptions`."
      ]
    },
    {
      "cell_type": "code",
      "metadata": {
        "id": "HMJ49C0USGcE",
        "colab_type": "code",
        "colab": {}
      },
      "source": [
        "first_descriptions = reviews.description.iloc[:10]\n",
        "\n",
        "first_descriptions"
      ],
      "execution_count": 0,
      "outputs": []
    },
    {
      "cell_type": "markdown",
      "metadata": {
        "id": "5xGXBfxwSK1o",
        "colab_type": "text"
      },
      "source": [
        "Select the records with index labels `1`, `2`, `3`, `5`, and `8`, assigning the result to the variable `sample_reviews`.\n",
        "\n",
        "In other words, generate the following DataFrame:\n",
        "\n",
        "![](https://i.imgur.com/sHZvI1O.png)"
      ]
    },
    {
      "cell_type": "code",
      "metadata": {
        "id": "ZBW0xHuASOhZ",
        "colab_type": "code",
        "colab": {}
      },
      "source": [
        "sample_reviews = reviews.iloc[[1,2,3,5,8],:]\n",
        "\n",
        "sample_reviews"
      ],
      "execution_count": 0,
      "outputs": []
    },
    {
      "cell_type": "markdown",
      "metadata": {
        "id": "HEDnT5TBSUsI",
        "colab_type": "text"
      },
      "source": [
        "Create a variable `df` containing the `country`, `province`, `region_1`, and `region_2` columns of the records with the index labels `0`, `1`, `10`, and `100`. In other words, generate the following `DataFrame`:\n",
        "\n",
        "![](https://i.imgur.com/FUCGiKP.png)"
      ]
    },
    {
      "cell_type": "code",
      "metadata": {
        "id": "OJs4FoCaSSyB",
        "colab_type": "code",
        "colab": {}
      },
      "source": [
        "df = reviews.loc[[0,1,10,100], ['country', 'province', 'region_1', 'region_2']]\n",
        "df"
      ],
      "execution_count": 0,
      "outputs": []
    },
    {
      "cell_type": "markdown",
      "metadata": {
        "id": "Iyd9gVwbSfTy",
        "colab_type": "text"
      },
      "source": [
        "Create a variable `df` containing the `country` and `variety` columns of the first 100 records. \n",
        "\n",
        "Hint: you may use `loc` or `iloc`. When working on the answer this question and the several of the ones that follow, keep the following \"gotcha\" described in the [reference](https://www.kaggle.com/residentmario/indexing-selecting-assigning-reference) for this tutorial section:\n",
        "\n",
        "> `iloc` uses the Python stdlib indexing scheme, where the first element of the range is included and the last one excluded. So `0:10` will select entries `0,...,9`. `loc`, meanwhile, indexes inclusively. So `0:10` will select entries `0,...,10`.\n",
        "\n",
        "> [...]\n",
        "\n",
        "> ...[consider] when the DataFrame index is a simple numerical list, e.g. `0,...,1000`. In this case `reviews.iloc[0:1000]` will return 1000 entries, while `reviews.loc[0:1000]` return 1001 of them! To get 1000 elements using `iloc`, you will need to go one higher and ask for `reviews.iloc[0:1001]`."
      ]
    },
    {
      "cell_type": "code",
      "metadata": {
        "id": "CB3CbkYlSngR",
        "colab_type": "code",
        "colab": {}
      },
      "source": [
        "df = reviews.loc[0:99,['country','variety']]"
      ],
      "execution_count": 0,
      "outputs": []
    },
    {
      "cell_type": "code",
      "metadata": {
        "id": "90A3Q1doSsfx",
        "colab_type": "code",
        "colab": {}
      },
      "source": [
        "## Create a DataFrame italian_wines containing reviews of wines made in Italy:\n",
        "italian_wines = "
      ],
      "execution_count": 0,
      "outputs": []
    },
    {
      "cell_type": "markdown",
      "metadata": {
        "id": "lwUvMXlkT3wR",
        "colab_type": "text"
      },
      "source": [
        "## Add Data Visualization via matplotlib.\n",
        "\n",
        "Wine-producing provinces of the world to the number of labels of wines they produce:"
      ]
    },
    {
      "cell_type": "code",
      "metadata": {
        "id": "7XY4L4dmT9Et",
        "colab_type": "code",
        "colab": {}
      },
      "source": [
        "reviews['province'].value_counts().head(10).plot.bar()"
      ],
      "execution_count": 0,
      "outputs": []
    },
    {
      "cell_type": "code",
      "metadata": {
        "id": "HcId6loI-OeS",
        "colab_type": "code",
        "colab": {}
      },
      "source": [
        "## This bar chart tells us absolute numbers, but it's more useful to know relative proportions. \n"
      ],
      "execution_count": 0,
      "outputs": []
    },
    {
      "cell_type": "markdown",
      "metadata": {
        "id": "nI2lltndA4m-",
        "colab_type": "text"
      },
      "source": [
        "The number of reviews of a certain score allotted by Wine Magazine:"
      ]
    },
    {
      "cell_type": "code",
      "metadata": {
        "id": "BunR8hK7-YlM",
        "colab_type": "code",
        "colab": {}
      },
      "source": [
        "reviews['points'].value_counts().sort_index().plot.bar()"
      ],
      "execution_count": 0,
      "outputs": []
    },
    {
      "cell_type": "code",
      "metadata": {
        "id": "fTh-YyJL-ZUs",
        "colab_type": "code",
        "colab": {}
      },
      "source": [
        "## The number of reviews of a certain score allotted by Wine Magazine using line() graph:\n"
      ],
      "execution_count": 0,
      "outputs": []
    },
    {
      "cell_type": "markdown",
      "metadata": {
        "id": "Pgf586c9-2wo",
        "colab_type": "text"
      },
      "source": [
        "### Relationship between **price** and **points**.\n",
        "\n",
        "The simplest bivariate plot is the **scatter plot**. A simple scatter plot simply maps each variable of interest to a point in two-dimensional space. This is the result:"
      ]
    },
    {
      "cell_type": "code",
      "metadata": {
        "id": "Q9Y3UOBF-cpk",
        "colab_type": "code",
        "colab": {}
      },
      "source": [
        "reviews[reviews['price'] < 100].sample(100).plot.scatter(x='price', y='points')"
      ],
      "execution_count": 0,
      "outputs": []
    },
    {
      "cell_type": "code",
      "metadata": {
        "id": "Vg8HoA7i-iIz",
        "colab_type": "code",
        "colab": {}
      },
      "source": [
        ""
      ],
      "execution_count": 0,
      "outputs": []
    }
  ]
}