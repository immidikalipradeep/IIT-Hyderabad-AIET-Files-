{
  "nbformat": 4,
  "nbformat_minor": 0,
  "metadata": {
    "colab": {
      "name": "Adepu Ravi (For class).ipynb",
      "version": "0.3.2",
      "provenance": [],
      "collapsed_sections": []
    },
    "kernelspec": {
      "name": "python2",
      "display_name": "Python 2"
    }
  },
  "cells": [
    {
      "cell_type": "markdown",
      "metadata": {
        "id": "iH_Mu86VHK9b",
        "colab_type": "text"
      },
      "source": [
        "Jupyter notebook contain both code and rich text elements. Because of the mix of code and text elements, these documents are the ideal place to bring together an analysis description, and its results, as well as, they can be executed perform the data analysis in real time."
      ]
    },
    {
      "cell_type": "code",
      "metadata": {
        "id": "LeUEgSvnEeSl",
        "colab_type": "code",
        "colab": {}
      },
      "source": [
        "# Colab introduction\n",
        "\n",
        "from google.colab import drive\n",
        "drive.mount('/content/gdrive')\n",
        "\n",
        "!wget -cq \"https://s3.amazonaws.com/content.udacity-data.com/courses/nd188/\\\n",
        "          flower_data.zip\"\n",
        "!unzip -qq flower_data.zip\n",
        "\n"
      ],
      "execution_count": 0,
      "outputs": []
    },
    {
      "cell_type": "markdown",
      "metadata": {
        "id": "hswuxb-5ImKh",
        "colab_type": "text"
      },
      "source": [
        "**NumPy** is the fundamental package for scientific computing with Python. \n",
        "1.   N-dimensional array object\n",
        "2.   Broadcasting functions\n",
        "3. Tools for integrating C/C++ and Fortran code\n",
        "\n"
      ]
    },
    {
      "cell_type": "markdown",
      "metadata": {
        "id": "w4QJ37GXJxXv",
        "colab_type": "text"
      },
      "source": [
        "Numpy for matlab users"
      ]
    },
    {
      "cell_type": "code",
      "metadata": {
        "id": "D-hc5X8YOpoW",
        "colab_type": "code",
        "outputId": "9106a05b-a640-43bd-c575-a92847d73974",
        "colab": {
          "base_uri": "https://localhost:8080/",
          "height": 34
        }
      },
      "source": [
        "import numpy as np\n",
        "print np.spacing(1)\t"
      ],
      "execution_count": 0,
      "outputs": [
        {
          "output_type": "stream",
          "text": [
            "2.220446049250313e-16\n"
          ],
          "name": "stdout"
        }
      ]
    },
    {
      "cell_type": "code",
      "metadata": {
        "id": "5yIO3_vBUTPQ",
        "colab_type": "code",
        "outputId": "a003e1de-e17c-4a77-ddad-e0bde1617991",
        "colab": {
          "base_uri": "https://localhost:8080/",
          "height": 119
        }
      },
      "source": [
        "# (1) Create an array and see it's type, shape, and access\n",
        "# its contents"
      ],
      "execution_count": 0,
      "outputs": [
        {
          "output_type": "stream",
          "text": [
            "<type 'numpy.ndarray'>\n",
            "(3,)\n",
            "(1, 2, 3)\n",
            "[5 2 3]\n",
            "(2, 3)\n",
            "(1, 2, 4)\n"
          ],
          "name": "stdout"
        }
      ]
    },
    {
      "cell_type": "markdown",
      "metadata": {
        "id": "peWz3BXcUtQh",
        "colab_type": "text"
      },
      "source": [
        "**Useful matrices:** Ones, Constant Array, Identity matrix, Random matrix"
      ]
    },
    {
      "cell_type": "code",
      "metadata": {
        "id": "FP5zQEcnU1Cv",
        "colab_type": "code",
        "colab": {}
      },
      "source": [
        "# (2) Basic stats on matrix: Max of entire matrix, max along each column, each row\n",
        "a = np.random.rand(5,5)\n"
      ],
      "execution_count": 0,
      "outputs": []
    },
    {
      "cell_type": "code",
      "metadata": {
        "id": "71Spq6azVjOl",
        "colab_type": "code",
        "outputId": "54d9c006-05f3-4a30-e4fa-5f02cb827b70",
        "colab": {
          "base_uri": "https://localhost:8080/",
          "height": 425
        }
      },
      "source": [
        "# Various kinds of Array indexing\n",
        "print (a)\n",
        "print (a[-1])\n",
        "print (a[1,4])\n",
        "print (a[0:5],a[:5],a[0:5,:])\n",
        "print (a[-4:])"
      ],
      "execution_count": 0,
      "outputs": [
        {
          "output_type": "stream",
          "text": [
            "[[0.18163004 0.1327926  0.9718743  0.21621841 0.94277578]\n",
            " [0.05168529 0.52033221 0.03969334 0.59470367 0.65450149]\n",
            " [0.33005399 0.99688827 0.79930692 0.23317195 0.18171144]\n",
            " [0.24344468 0.7595717  0.74563132 0.39819314 0.30924465]\n",
            " [0.94427736 0.33626804 0.49904376 0.5747781  0.72910726]]\n",
            "[0.94427736 0.33626804 0.49904376 0.5747781  0.72910726]\n",
            "0.6545014886122122\n",
            "(array([[0.18163004, 0.1327926 , 0.9718743 , 0.21621841, 0.94277578],\n",
            "       [0.05168529, 0.52033221, 0.03969334, 0.59470367, 0.65450149],\n",
            "       [0.33005399, 0.99688827, 0.79930692, 0.23317195, 0.18171144],\n",
            "       [0.24344468, 0.7595717 , 0.74563132, 0.39819314, 0.30924465],\n",
            "       [0.94427736, 0.33626804, 0.49904376, 0.5747781 , 0.72910726]]), array([[0.18163004, 0.1327926 , 0.9718743 , 0.21621841, 0.94277578],\n",
            "       [0.05168529, 0.52033221, 0.03969334, 0.59470367, 0.65450149],\n",
            "       [0.33005399, 0.99688827, 0.79930692, 0.23317195, 0.18171144],\n",
            "       [0.24344468, 0.7595717 , 0.74563132, 0.39819314, 0.30924465],\n",
            "       [0.94427736, 0.33626804, 0.49904376, 0.5747781 , 0.72910726]]), array([[0.18163004, 0.1327926 , 0.9718743 , 0.21621841, 0.94277578],\n",
            "       [0.05168529, 0.52033221, 0.03969334, 0.59470367, 0.65450149],\n",
            "       [0.33005399, 0.99688827, 0.79930692, 0.23317195, 0.18171144],\n",
            "       [0.24344468, 0.7595717 , 0.74563132, 0.39819314, 0.30924465],\n",
            "       [0.94427736, 0.33626804, 0.49904376, 0.5747781 , 0.72910726]]))\n",
            "[[0.05168529 0.52033221 0.03969334 0.59470367 0.65450149]\n",
            " [0.33005399 0.99688827 0.79930692 0.23317195 0.18171144]\n",
            " [0.24344468 0.7595717  0.74563132 0.39819314 0.30924465]\n",
            " [0.94427736 0.33626804 0.49904376 0.5747781  0.72910726]]\n"
          ],
          "name": "stdout"
        }
      ]
    },
    {
      "cell_type": "markdown",
      "metadata": {
        "id": "S1JOoNZaWqlX",
        "colab_type": "text"
      },
      "source": [
        "**Ques** : How do we print a sub array"
      ]
    },
    {
      "cell_type": "code",
      "metadata": {
        "id": "FGPYQWlAWyvJ",
        "colab_type": "code",
        "outputId": "b822698e-f287-4459-d239-3526129aa547",
        "colab": {
          "base_uri": "https://localhost:8080/",
          "height": 85
        }
      },
      "source": [
        "print(a[1:5][:,2:5])\n"
      ],
      "execution_count": 0,
      "outputs": [
        {
          "output_type": "stream",
          "text": [
            "[[0.03969334 0.59470367 0.65450149]\n",
            " [0.79930692 0.23317195 0.18171144]\n",
            " [0.74563132 0.39819314 0.30924465]\n",
            " [0.49904376 0.5747781  0.72910726]]\n"
          ],
          "name": "stdout"
        }
      ]
    },
    {
      "cell_type": "code",
      "metadata": {
        "id": "Oo9UKu2MY1Gz",
        "colab_type": "code",
        "outputId": "4fc39e74-ac0a-4a4e-b3c5-f973dafbd1a6",
        "colab": {
          "base_uri": "https://localhost:8080/",
          "height": 51
        }
      },
      "source": [
        "a[ 2:5:2,:]\n",
        "# every other row of a, starting with the third and going to the 5"
      ],
      "execution_count": 0,
      "outputs": [
        {
          "output_type": "execute_result",
          "data": {
            "text/plain": [
              "array([[0.81009874, 0.13646136, 0.46724157, 0.26159925, 0.54689703],\n",
              "       [0.64855633, 0.9521238 , 0.87069101, 0.62613395, 0.97539296]])"
            ]
          },
          "metadata": {
            "tags": []
          },
          "execution_count": 7
        }
      ]
    },
    {
      "cell_type": "code",
      "metadata": {
        "id": "LCoIScsnZKZJ",
        "colab_type": "code",
        "outputId": "67d5af80-ed62-499e-bab5-bd8ab8d97b08",
        "colab": {
          "base_uri": "https://localhost:8080/",
          "height": 68
        }
      },
      "source": [
        "a[ ::2,:]\t\n",
        "# every other row of a, starting with the first\n"
      ],
      "execution_count": 0,
      "outputs": [
        {
          "output_type": "execute_result",
          "data": {
            "text/plain": [
              "array([[0.18194827, 0.03730236, 0.92103542, 0.3911326 , 0.25323421],\n",
              "       [0.81009874, 0.13646136, 0.46724157, 0.26159925, 0.54689703],\n",
              "       [0.64855633, 0.9521238 , 0.87069101, 0.62613395, 0.97539296]])"
            ]
          },
          "metadata": {
            "tags": []
          },
          "execution_count": 8
        }
      ]
    },
    {
      "cell_type": "code",
      "metadata": {
        "id": "9uzuq8cLZTBP",
        "colab_type": "code",
        "outputId": "4f7a9099-7eae-4177-e5ac-5f94d9e60ce7",
        "colab": {
          "base_uri": "https://localhost:8080/",
          "height": 102
        }
      },
      "source": [
        "a[ ::-1,:]\n",
        "#  a with rows in reverse order"
      ],
      "execution_count": 0,
      "outputs": [
        {
          "output_type": "execute_result",
          "data": {
            "text/plain": [
              "array([[0.64855633, 0.9521238 , 0.87069101, 0.62613395, 0.97539296],\n",
              "       [0.5077417 , 0.53575225, 0.49967383, 0.34741301, 0.28881767],\n",
              "       [0.81009874, 0.13646136, 0.46724157, 0.26159925, 0.54689703],\n",
              "       [0.26373042, 0.56911377, 0.5168187 , 0.34917028, 0.42149399],\n",
              "       [0.18194827, 0.03730236, 0.92103542, 0.3911326 , 0.25323421]])"
            ]
          },
          "metadata": {
            "tags": []
          },
          "execution_count": 9
        }
      ]
    },
    {
      "cell_type": "code",
      "metadata": {
        "id": "8KnIMZKnQPG1",
        "colab_type": "code",
        "outputId": "c71fe370-693c-4f19-8018-5850b403952d",
        "colab": {
          "base_uri": "https://localhost:8080/",
          "height": 34
        }
      },
      "source": [
        "# (4) Print evenly spaced values within range\n",
        "np.arange(3)\n"
      ],
      "execution_count": 0,
      "outputs": [
        {
          "output_type": "execute_result",
          "data": {
            "text/plain": [
              "array([0, 1, 2])"
            ]
          },
          "metadata": {
            "tags": []
          },
          "execution_count": 13
        }
      ]
    },
    {
      "cell_type": "code",
      "metadata": {
        "id": "UDKFqATIfYRC",
        "colab_type": "code",
        "outputId": "dbb52c5a-4dbf-46f5-d257-54e4fec44756",
        "colab": {
          "base_uri": "https://localhost:8080/",
          "height": 85
        }
      },
      "source": [
        "# (5) Advanced indexing using array\n",
        "a = np.array([[1,2,3], [4,5,6], [7,8,9], [10, 11, 12]])\n",
        "\n",
        "# Create an array of indices\n",
        "b = np.array([0, 1, 0, 2])\n",
        "\n",
        "# Select one element from each row of a using the indices in b\n",
        "# Fill here\n",
        "\n",
        "# Add '1' to element from each row of a using the indices in b\n",
        "# Fill here\n",
        "\n",
        "print(a)"
      ],
      "execution_count": 0,
      "outputs": [
        {
          "output_type": "stream",
          "text": [
            "[[ 1  2  3]\n",
            " [ 4  5  6]\n",
            " [ 7  8  9]\n",
            " [10 11 12]]\n"
          ],
          "name": "stdout"
        }
      ]
    },
    {
      "cell_type": "code",
      "metadata": {
        "id": "73RKhJAhf2TV",
        "colab_type": "code",
        "outputId": "16b1d5e4-f58e-404b-81f3-cfecf69c1c50",
        "colab": {
          "base_uri": "https://localhost:8080/",
          "height": 102
        }
      },
      "source": [
        "# (6) Boolean indexing\n",
        "a = np.array([[1,2], [3, 4], [5, 6]])\n",
        "\n",
        "# Print all elements greater than 3 in a\n",
        "# Fill here\n",
        "\n",
        "bool_idx = (a > 3)   \n",
        "print(bool_idx)     \n",
        "print(a[bool_idx])  \n",
        "# Can you write it more concisely?\n"
      ],
      "execution_count": 0,
      "outputs": [
        {
          "output_type": "stream",
          "text": [
            "[[False False]\n",
            " [False  True]\n",
            " [ True  True]]\n",
            "[4 5 6]\n"
          ],
          "name": "stdout"
        },
        {
          "output_type": "execute_result",
          "data": {
            "text/plain": [
              "array([4, 5, 6])"
            ]
          },
          "metadata": {
            "tags": []
          },
          "execution_count": 17
        }
      ]
    },
    {
      "cell_type": "code",
      "metadata": {
        "id": "ruKuUGD9iNbH",
        "colab_type": "code",
        "colab": {}
      },
      "source": [
        "# (7) Data types\n",
        "a = np.array([1, 2])\n"
      ],
      "execution_count": 0,
      "outputs": []
    },
    {
      "cell_type": "markdown",
      "metadata": {
        "id": "dJhVpuYXTJHy",
        "colab_type": "text"
      },
      "source": [
        "[Link to see various dtypes available with Numpy](https://www.numpy.org/devdocs/user/basics.types.html)"
      ]
    },
    {
      "cell_type": "code",
      "metadata": {
        "id": "ygOd5jQTipPL",
        "colab_type": "code",
        "colab": {}
      },
      "source": [
        "# Array math\n",
        "x = np.array([[1,2],[3,4]], dtype=np.float64)\n",
        "y = np.array([[5,6],[7,8]], dtype=np.float64)\n",
        "\n",
        "# Elementwise sum;\n",
        "# Fill here\n",
        "\n",
        "# Elementwise difference; \n",
        "# Fill here\n",
        "\n",
        "# Elementwise product; \n",
        "# Fill here\n",
        "\n",
        "# Elementwise division; \n",
        "# Fill here\n",
        "\n",
        "# Elementwise square root;\n",
        "# Fill here"
      ],
      "execution_count": 0,
      "outputs": []
    },
    {
      "cell_type": "code",
      "metadata": {
        "id": "C3F9tldylcC4",
        "colab_type": "code",
        "outputId": "4e3aca1b-c1b9-4407-d506-7fee2d982dac",
        "colab": {
          "base_uri": "https://localhost:8080/",
          "height": 153
        }
      },
      "source": [
        "x = np.array([[1,2],[3,4]])\n",
        "y = np.array([[5,6],[7,8]])\n",
        "\n",
        "v = np.array([9,10])\n",
        "w = np.array([11, 12])\n",
        "\n",
        "# Inner product of vectors; both produce 219\n",
        "print(v.dot(w))\n",
        "print(np.dot(v, w))\n",
        "\n",
        "# Matrix / vector product; both produce the rank 1 array [29 67]\n",
        "print(x.dot(v))\n",
        "print(np.dot(x, v))\n",
        "\n",
        "# Matrix / matrix product; both produce the rank 2 array\n",
        "# [[19 22]\n",
        "#  [43 50]]\n",
        "print(x.dot(y))\n",
        "print(np.dot(x, y))"
      ],
      "execution_count": 0,
      "outputs": [
        {
          "output_type": "stream",
          "text": [
            "219\n",
            "219\n",
            "[29 67]\n",
            "[29 67]\n",
            "[[19 22]\n",
            " [43 50]]\n",
            "[[19 22]\n",
            " [43 50]]\n"
          ],
          "name": "stdout"
        }
      ]
    },
    {
      "cell_type": "code",
      "metadata": {
        "id": "P2Wyj2rHZh2Z",
        "colab_type": "code",
        "outputId": "ae3422c0-7ad9-41d4-c679-e271db9f4263",
        "colab": {
          "base_uri": "https://localhost:8080/",
          "height": 102
        }
      },
      "source": [
        "# Transpose of a matrix, # Matrix multiplication\n",
        "a= np.random.rand(5,5)\n",
        "a.transpose()\n",
        "a.T\n",
        "np.matmul(a,a)"
      ],
      "execution_count": 0,
      "outputs": [
        {
          "output_type": "execute_result",
          "data": {
            "text/plain": [
              "array([[1.37981973, 1.19502649, 1.42191063, 1.12753065, 2.00390449],\n",
              "       [0.30089713, 0.19867971, 0.53854145, 0.51488883, 0.60244508],\n",
              "       [1.60088569, 1.37299889, 1.64363707, 1.06563095, 2.21430254],\n",
              "       [1.23139987, 0.77345627, 1.56690776, 1.28799197, 1.58193066],\n",
              "       [1.61784169, 1.15536285, 2.16911198, 1.36009222, 2.33217516]])"
            ]
          },
          "metadata": {
            "tags": []
          },
          "execution_count": 34
        }
      ]
    },
    {
      "cell_type": "code",
      "metadata": {
        "id": "38xLjNmBd5W3",
        "colab_type": "code",
        "colab": {}
      },
      "source": [
        ""
      ],
      "execution_count": 0,
      "outputs": []
    },
    {
      "cell_type": "markdown",
      "metadata": {
        "id": "Io9Wz6mdZ2qU",
        "colab_type": "text"
      },
      "source": [
        "**Hands-on** Write code to transpose a matrix without using numpy in-built function"
      ]
    },
    {
      "cell_type": "code",
      "metadata": {
        "id": "S-heON61bnnU",
        "colab_type": "code",
        "outputId": "9ba44904-06e1-453b-f5a7-ec4aaed47a94",
        "colab": {
          "base_uri": "https://localhost:8080/",
          "height": 85
        }
      },
      "source": [
        "# Hands-0n : Fill the for loop\n",
        "# Broadcasting: A powerful mechanism that allows numpy to work with arrays of different shapes when performing arithmetic operations\n",
        "\n",
        "\n",
        "# Let's add a vector v to each row of matrix x\n",
        "\n",
        "x = np.array([[1,2,3], [4,5,6], [7,8,9], [10, 11, 12]])\n",
        "v = np.array([1, 0, 1])\n",
        "y = np.empty_like(x)   # Create an empty matrix with the same shape as x\n",
        "\n",
        "# Add the vector v to each row of the matrix x with an explicit loop\n",
        "for i in range(4):\n",
        "    # Fill here\n",
        "print(y)"
      ],
      "execution_count": 0,
      "outputs": [
        {
          "output_type": "stream",
          "text": [
            "[[ 2  2  4]\n",
            " [ 5  5  7]\n",
            " [ 8  8 10]\n",
            " [11 11 13]]\n"
          ],
          "name": "stdout"
        }
      ]
    },
    {
      "cell_type": "code",
      "metadata": {
        "id": "cndE70OQdBk4",
        "colab_type": "code",
        "outputId": "4d8ceeb4-8a1b-4245-f15b-9d282c7b211e",
        "colab": {
          "base_uri": "https://localhost:8080/",
          "height": 85
        }
      },
      "source": [
        "# We will add the vector v to each row of the matrix x,\n",
        "# storing the result in the matrix y\n",
        "x = np.array([[1,2,3], [4,5,6], [7,8,9], [10, 11, 12]])\n",
        "v = np.array([1, 0, 1])\n",
        "vv = np.tile(v, (4, 1))   \n",
        "y = x + vv  # Add x and vv elementwise\n",
        "print y\n"
      ],
      "execution_count": 0,
      "outputs": [
        {
          "output_type": "stream",
          "text": [
            "[[ 2  2  4]\n",
            " [ 5  5  7]\n",
            " [ 8  8 10]\n",
            " [11 11 13]]\n"
          ],
          "name": "stdout"
        }
      ]
    },
    {
      "cell_type": "code",
      "metadata": {
        "id": "b5t_LXpid5KK",
        "colab_type": "code",
        "outputId": "fd3cbc01-27e4-4f83-a696-fbdde95659ee",
        "colab": {
          "base_uri": "https://localhost:8080/",
          "height": 85
        }
      },
      "source": [
        "# Can we do better ? Yes; \n",
        "# Numpy broadcasting allows us to perform this computation without actually crea-\n",
        "# ting multiple copies of v. \n",
        "\n",
        "x = np.array([[1,2,3], [4,5,6], [7,8,9], [10, 11, 12]])\n",
        "v = np.array([1, 0, 1])\n",
        "y = x + v  # Add v to each row of x using broadcasting\n",
        "print(y)"
      ],
      "execution_count": 0,
      "outputs": [
        {
          "output_type": "stream",
          "text": [
            "[[ 2  2  4]\n",
            " [ 5  5  7]\n",
            " [ 8  8 10]\n",
            " [11 11 13]]\n"
          ],
          "name": "stdout"
        }
      ]
    },
    {
      "cell_type": "markdown",
      "metadata": {
        "id": "CKGDFwCznRbJ",
        "colab_type": "text"
      },
      "source": [
        "Rules of Broadcasting\n",
        "\n",
        "\n",
        "1.  If the two arrays differ in their number of dimensions, the shape of the one with fewer dimensions is padded with ones on its leading (left) side.\n",
        "2. If the shape of the two arrays does not match in any dimension, the array with shape equal to 1 in that dimension is stretched to match the other shape.\n",
        "3. If in any dimension the sizes disagree and neither is equal to 1, an error is raised.\n",
        "\n",
        "\n",
        "\n"
      ]
    },
    {
      "cell_type": "markdown",
      "metadata": {
        "id": "PB6iuQTXnhLK",
        "colab_type": "text"
      },
      "source": [
        "[Very useful link to understand broadcasting](https://jakevdp.github.io/PythonDataScienceHandbook/02.05-computation-on-arrays-broadcasting.html)"
      ]
    }
  ]
}