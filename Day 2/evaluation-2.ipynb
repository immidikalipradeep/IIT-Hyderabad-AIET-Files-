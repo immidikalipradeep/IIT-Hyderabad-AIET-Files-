{
  "nbformat": 4,
  "nbformat_minor": 0,
  "metadata": {
    "colab": {
      "name": "evaluation.ipynb",
      "version": "0.3.2",
      "provenance": [],
      "collapsed_sections": []
    },
    "language_info": {
      "codemirror_mode": {
        "name": "ipython",
        "version": 2
      },
      "file_extension": ".py",
      "mimetype": "text/x-python",
      "name": "python",
      "nbconvert_exporter": "python",
      "pygments_lexer": "ipython2",
      "version": "2.7.12"
    },
    "kernelspec": {
      "display_name": "Python 2",
      "language": "python",
      "name": "python2"
    }
  },
  "cells": [
    {
      "cell_type": "markdown",
      "metadata": {
        "id": "hjASKKN-iA4v",
        "colab_type": "text"
      },
      "source": [
        "# Classifier Evaluation\n",
        "\n",
        "\n"
      ]
    },
    {
      "cell_type": "markdown",
      "metadata": {
        "id": "OJT4GVJgiA4w",
        "colab_type": "text"
      },
      "source": [
        "#### Notebook to play with the evaluation metrics used for classifiers\n",
        "\n",
        "##### https://scikit-learn.org/stable/modules/classes.html#module-sklearn.datasets can be used to create variety of toy datasets like swiss roll, moons, circles etc."
      ]
    },
    {
      "cell_type": "code",
      "metadata": {
        "id": "i3Qau838iA4y",
        "colab_type": "code",
        "colab": {}
      },
      "source": [
        "from sklearn.datasets.samples_generator import make_blobs \n",
        "from matplotlib import pyplot\n",
        "from pandas import DataFrame\n",
        "seed = 0 # to keep the same results "
      ],
      "execution_count": 0,
      "outputs": []
    },
    {
      "cell_type": "markdown",
      "metadata": {
        "id": "TGVEIM2piA43",
        "colab_type": "text"
      },
      "source": [
        "##### Toy Data Generation"
      ]
    },
    {
      "cell_type": "code",
      "metadata": {
        "id": "1fKRafzpiA44",
        "colab_type": "code",
        "colab": {}
      },
      "source": [
        "# generate 2d classification dataset\n",
        "X, y = make_blobs(n_samples=200, centers=2, n_features=2, random_state=seed)"
      ],
      "execution_count": 0,
      "outputs": []
    },
    {
      "cell_type": "code",
      "metadata": {
        "id": "cmV-MGkeiA48",
        "colab_type": "code",
        "outputId": "9208ba01-0005-41af-bf25-eda8c968587d",
        "colab": {
          "base_uri": "https://localhost:8080/",
          "height": 283
        }
      },
      "source": [
        "# scatter plot, dots colored by class value\n",
        "df = DataFrame(dict(x=X[:,0], y=X[:,1], label=y))\n",
        "colors = {0:'red', 1:'blue'}\n",
        "fig, ax = pyplot.subplots()\n",
        "grouped = df.groupby('label')\n",
        "for key, group in grouped:\n",
        "    group.plot(ax=ax, kind='scatter', x='x', y='y', label=key, color=colors[key])\n",
        "pyplot.show()"
      ],
      "execution_count": 205,
      "outputs": [
        {
          "output_type": "display_data",
          "data": {
            "image/png": "[encoded data removed]",
            "text/plain": [
              "<Figure size 432x288 with 1 Axes>"
            ]
          },
          "metadata": {
            "tags": []
          }
        }
      ]
    },
    {
      "cell_type": "markdown",
      "metadata": {
        "id": "wJcbiq8TiA5B",
        "colab_type": "text"
      },
      "source": [
        "##### Split into Test and Train since this helps evaluate on unseen data"
      ]
    },
    {
      "cell_type": "code",
      "metadata": {
        "id": "I_QWnrw_iA5C",
        "colab_type": "code",
        "colab": {}
      },
      "source": [
        "from sklearn.model_selection import train_test_split\n",
        "X_train, X_test, y_train, y_test = train_test_split(X, y, test_size=0.2, random_state=seed) #randomly sampled\n",
        "# print X_test.shape,X_train.shape"
      ],
      "execution_count": 0,
      "outputs": []
    },
    {
      "cell_type": "markdown",
      "metadata": {
        "id": "_FkIs1uZQ1Er",
        "colab_type": "text"
      },
      "source": [
        "##### Naive Bayes Classifier"
      ]
    },
    {
      "cell_type": "code",
      "metadata": {
        "id": "rKHQm4xQiA5G",
        "colab_type": "code",
        "outputId": "1ac92908-4381-4681-b9b2-c7878ce39621",
        "colab": {
          "base_uri": "https://localhost:8080/",
          "height": 34
        }
      },
      "source": [
        "from sklearn.naive_bayes import BernoulliNB\n",
        "classifier = BernoulliNB()\n",
        "classifier.fit(X_train, y_train)"
      ],
      "execution_count": 207,
      "outputs": [
        {
          "output_type": "execute_result",
          "data": {
            "text/plain": [
              "BernoulliNB(alpha=1.0, binarize=0.0, class_prior=None, fit_prior=True)"
            ]
          },
          "metadata": {
            "tags": []
          },
          "execution_count": 207
        }
      ]
    },
    {
      "cell_type": "code",
      "metadata": {
        "id": "g86NBIb5iA5L",
        "colab_type": "code",
        "colab": {}
      },
      "source": [
        "y_train_pred = classifier.predict(X_train)\n",
        "y_test_pred = classifier.predict(X_test)"
      ],
      "execution_count": 0,
      "outputs": []
    },
    {
      "cell_type": "markdown",
      "metadata": {
        "id": "lutTVk0TldiG",
        "colab_type": "text"
      },
      "source": [
        "![](https://i.ibb.co/b1S1d2q/Screen-Shot-2019-05-24-at-11-40-41-PM.png)\n"
      ]
    },
    {
      "cell_type": "markdown",
      "metadata": {
        "id": "BVggfGfriA5N",
        "colab_type": "text"
      },
      "source": [
        "##### Try writing a function to count them: "
      ]
    },
    {
      "cell_type": "code",
      "metadata": {
        "id": "8kgigjgLiA5N",
        "colab_type": "code",
        "colab": {}
      },
      "source": [
        "def count_func(y_true, y_pred):\n",
        "    TP = 0\n",
        "    FP = 0\n",
        "    TN = 0\n",
        "    FN = 0\n",
        "#     0 is neg class and 1 is positive for us\n",
        "    for i in range(len(y_pred)): \n",
        "        if y_true[i] == 1 and y_pred[i] == 1:\n",
        "           TP += 1\n",
        "        elif y_true[i] == 1 and y_pred[i] == 0:\n",
        "           FN += 1\n",
        "        elif y_true[i] == 0 and y_pred[i] == 0: \n",
        "           TN += 1\n",
        "        elif y_true[i] == 0 and y_pred[i] == 1:\n",
        "           FP += 1\n",
        "    return TP, TN, FP, FN"
      ],
      "execution_count": 0,
      "outputs": []
    },
    {
      "cell_type": "code",
      "metadata": {
        "id": "rl8zmt4JiA5P",
        "colab_type": "code",
        "outputId": "788fb248-84e7-41cb-d407-2652031a369b",
        "colab": {
          "base_uri": "https://localhost:8080/",
          "height": 34
        }
      },
      "source": [
        "TP, TN, FP, FN = count_func(y_train, y_train_pred)\n",
        "print TP, TN, FP, FN"
      ],
      "execution_count": 211,
      "outputs": [
        {
          "output_type": "stream",
          "text": [
            "81 15 63 1\n"
          ],
          "name": "stdout"
        }
      ]
    },
    {
      "cell_type": "markdown",
      "metadata": {
        "id": "ZsDesc4RiA5U",
        "colab_type": "text"
      },
      "source": [
        "#### 1. Accuracy"
      ]
    },
    {
      "cell_type": "code",
      "metadata": {
        "id": "XrQKehE4iA5V",
        "colab_type": "code",
        "outputId": "a9ab5ca2-4a74-434b-b37c-a5b7ddc3d347",
        "colab": {
          "base_uri": "https://localhost:8080/",
          "height": 68
        }
      },
      "source": [
        "from sklearn.metrics import accuracy_score\n",
        "# Format : accuracy_score(y_pred,y_true)\n",
        "print(\"Accuracy: \")\n",
        "print \"Sk-learn implementation : \", accuracy_score(y_train_pred,y_train)\n",
        "\n",
        "# Accuracy = (TP + TN) / (TP + TN + FP + FN)\n",
        "print \"Actual Formula: \",(TP+TN)/float(TP+TN+FP+FN)\n"
      ],
      "execution_count": 212,
      "outputs": [
        {
          "output_type": "stream",
          "text": [
            "Accuracy: \n",
            "Sk-learn implementation :  0.6\n",
            "Actual Formula:  0.6\n"
          ],
          "name": "stdout"
        }
      ]
    },
    {
      "cell_type": "markdown",
      "metadata": {
        "id": "sAqdebGJiA5Y",
        "colab_type": "text"
      },
      "source": [
        "#### 2. Error Rate"
      ]
    },
    {
      "cell_type": "code",
      "metadata": {
        "id": "kLbCn4jyiA5Y",
        "colab_type": "code",
        "colab": {}
      },
      "source": [
        "# Error Rate = 1 – accuracy or (FP + FN) / (TP + TN + FP + FN)\n",
        "\n",
        "\n"
      ],
      "execution_count": 0,
      "outputs": []
    },
    {
      "cell_type": "markdown",
      "metadata": {
        "id": "b0EhqpWiZbh1",
        "colab_type": "text"
      },
      "source": [
        "### The Accuracy Paradox.\n",
        "Accuracy ( and error rate) alone is never a good measure.  Even a dummy classifier manages to get near same accuracy as our trained models. Example :\n",
        "\n",
        "---\n",
        "![alt text](https://i.ibb.co/dGsc1CX/Screen-Shot-2019-05-28-at-11-18-03-AM.png)\n",
        "\n",
        "Accuracy (from prev formula): (10+110)/150 = 73.3%\n",
        "\n",
        "Just mark all points as negative class then : \n",
        "\n",
        "![alt text](https://i.ibb.co/ccVZ8R9/Screen-Shot-2019-05-28-at-11-18-09-AM.png)\n",
        "\n",
        "**Accuracy (from prev formula): 125/150 = 83.3%**\n",
        "\n",
        "This is simply due to the larger number of neg samples compared to positive.\n",
        "\n",
        " ##### Images source : https://urlzs.com/zcji1"
      ]
    },
    {
      "cell_type": "markdown",
      "metadata": {
        "id": "vFuYKUHlPNeC",
        "colab_type": "text"
      },
      "source": [
        "\n",
        "\n",
        "---\n",
        "\n"
      ]
    },
    {
      "cell_type": "markdown",
      "metadata": {
        "id": "yn1hhVWliA5a",
        "colab_type": "text"
      },
      "source": [
        "#### 3. Precision :  \n",
        "\n",
        "*  It is the number of positive predictions divided by the total number of positive class values predicted.\n",
        "*  Precision expresses the proportion of the data points our model says was relevant actually were relevant.\n",
        "\n",
        "\n",
        "\n"
      ]
    },
    {
      "cell_type": "code",
      "metadata": {
        "id": "KTBH04fbiA5a",
        "colab_type": "code",
        "colab": {}
      },
      "source": [
        "# Precision = TP / (TP + FP)\n",
        "\n",
        "\n",
        "from sklearn.metrics import precision_score\n",
        "# precision_score(y_true, y_pred)"
      ],
      "execution_count": 0,
      "outputs": []
    },
    {
      "cell_type": "markdown",
      "metadata": {
        "id": "yPO9GlOAiA5c",
        "colab_type": "text"
      },
      "source": [
        "#### 4. Recall (True Positive Rate/Sensitivity):\n",
        "\n",
        "*   It is the number of positive predictions divided by the number of positive class values in the data.\n",
        "*   It tells us how well the model learned class infromation from the data. \n",
        "*   Recall expresses the ability to find all relevant instances in a dataset\n",
        "* If a model has high recall, then we can rely on its prediction when it says a point is in the positive class.\n",
        "\n",
        "\n"
      ]
    },
    {
      "cell_type": "code",
      "metadata": {
        "id": "CHthJVYNiA5c",
        "colab_type": "code",
        "colab": {}
      },
      "source": [
        "# Recall = TP / (TP + FN)\n",
        "\n",
        "\n",
        "from sklearn.metrics import recall_score\n",
        "# recall_score(y_true, y_pred)\n"
      ],
      "execution_count": 0,
      "outputs": []
    },
    {
      "cell_type": "markdown",
      "metadata": {
        "id": "rnYtA_qpiA5d",
        "colab_type": "text"
      },
      "source": [
        "#### 6. F-measure: harmonic mean(punishes extreme values) of precision and recall.. Gives a balance between them both\n",
        "\n",
        "*  Model with no false negatives has recall = 1 .. but that can be possible for any classifier which labels all as positive class.\n",
        "* But we also need reliability of the prediction, ie we know for sure that the model doesn't give any FP, which implies we need precision = 1. Only then we have an ideal classifier.  \n",
        "\n",
        "* In real world, with recall = 1 we still have non zero FP creating low precision and vice versa. Hence there is a trade off. Hence f-measure.\n",
        "\n",
        "* f-measure is a harmonic mean so it can high only when both precision and recall are high. "
      ]
    },
    {
      "cell_type": "code",
      "metadata": {
        "id": "KKSNKdqbiA5e",
        "colab_type": "code",
        "colab": {}
      },
      "source": [
        "# F-measure: 2 / ( (1 / Precision) + (1 / Recall) )\n",
        "\n",
        "\n",
        "\n",
        "from sklearn.metrics import f1_score\n",
        "# f1_score(y_true, y_pred)\n"
      ],
      "execution_count": 0,
      "outputs": []
    },
    {
      "cell_type": "markdown",
      "metadata": {
        "id": "VODeetdDiA5s",
        "colab_type": "text"
      },
      "source": [
        "#### Precision Recall Curves"
      ]
    },
    {
      "cell_type": "code",
      "metadata": {
        "id": "3PuDwgIKiA5s",
        "colab_type": "code",
        "colab": {
          "base_uri": "https://localhost:8080/",
          "height": 303
        },
        "outputId": "c5739889-53ca-4bf7-d89f-abce9e8c3442"
      },
      "source": [
        "from sklearn.metrics import precision_recall_curve\n",
        "from sklearn.metrics import f1_score\n",
        "from sklearn.metrics import auc\n",
        "from sklearn.metrics import average_precision_score\n",
        "import matplotlib.pyplot as plt\n",
        "\n",
        "probs = classifier.predict_proba(X_train)[:,1]\n",
        "\n",
        "precision, recall, thresholds = precision_recall_curve(y_train, probs) # threshold is the classifier prob threshold to decide as either 0 or 1, usually it is 0.5 . \n",
        "# calculate F1 score\n",
        "f1 = f1_score(y_train, y_train_pred)\n",
        "# calculate precision-recall AUC\n",
        "auc = auc(recall, precision)\n",
        "# calculate average precision score\n",
        "ap = average_precision_score(y_train, probs)\n",
        "print('f1=%.3f auc=%.3f ap=%.3f' % (f1, auc, ap))\n",
        "# pyplot.plot([0, 1], [0.5, 0.5], linestyle='--')\n",
        "\n",
        "# plot the precision-recall curve for the model\n",
        "pyplot.plot(recall, precision, marker='.')\n",
        "# show the plot"
      ],
      "execution_count": 216,
      "outputs": [
        {
          "output_type": "stream",
          "text": [
            "f1=0.717 auc=0.818 ap=0.642\n"
          ],
          "name": "stdout"
        },
        {
          "output_type": "execute_result",
          "data": {
            "text/plain": [
              "[<matplotlib.lines.Line2D at 0x7f3ab7292c90>]"
            ]
          },
          "metadata": {
            "tags": []
          },
          "execution_count": 216
        },
        {
          "output_type": "display_data",
          "data": {
            "image/png": "[encoded data removed]",
            "text/plain": [
              "<Figure size 432x288 with 1 Axes>"
            ]
          },
          "metadata": {
            "tags": []
          }
        }
      ]
    },
    {
      "cell_type": "markdown",
      "metadata": {
        "id": "BoUA0a0eVixr",
        "colab_type": "text"
      },
      "source": [
        "##### PR curves are calculated for each threshold picked by the classifier and the theshold which results in high P and R is picked as the classifier prob threshold."
      ]
    },
    {
      "cell_type": "markdown",
      "metadata": {
        "id": "JB-JD1w9VwW3",
        "colab_type": "text"
      },
      "source": [
        "\n",
        "\n",
        "---\n",
        "\n"
      ]
    },
    {
      "cell_type": "markdown",
      "metadata": {
        "id": "YkkPh737iA5h",
        "colab_type": "text"
      },
      "source": [
        "#### 5. Specificity : similar to recall ..  It is the number of negative predictions divided by the number of negative class values in the data."
      ]
    },
    {
      "cell_type": "code",
      "metadata": {
        "id": "DmXJgPUGiA5i",
        "colab_type": "code",
        "colab": {}
      },
      "source": [
        "#  Specificity  = (TN / (TN + FP))"
      ],
      "execution_count": 0,
      "outputs": []
    },
    {
      "cell_type": "markdown",
      "metadata": {
        "id": "N8M3aDVCiA5j",
        "colab_type": "text"
      },
      "source": [
        "#### 5.  False Postive Rate : proportion of actual negative, which got predicted as positive ie fraction of FP out of all negative class values in data."
      ]
    },
    {
      "cell_type": "code",
      "metadata": {
        "id": "AU7U8ry5iA5k",
        "colab_type": "code",
        "colab": {}
      },
      "source": [
        "# False Positive Rate(FPR) = 1 - Specificity = (FP / (TN + FP))"
      ],
      "execution_count": 0,
      "outputs": []
    },
    {
      "cell_type": "markdown",
      "metadata": {
        "id": "D5A4nwmXiA5t",
        "colab_type": "text"
      },
      "source": [
        "#### ROC (Receiver Operating Characteristics) = plot of FPR vs TPR(recall)\n",
        "\n",
        "\n",
        "*   FPR (FP / (TN + FP)) and TPR (TP / (TP + FN)) have a tradeoff similar to precision recall. \n",
        "* Since TPR is fraction of positive class pred out of all pos classes in data and its counterpart is FPR they both can never be high at the same time. \n",
        "* Example:  ![alt text](https://i.ibb.co/09ckcPd/gauss-pls.png)\n",
        "*   Models with higher AUC--> better class separation and predicatabilty.\n",
        "\n"
      ]
    },
    {
      "cell_type": "code",
      "metadata": {
        "id": "U1sIqml_iA5u",
        "colab_type": "code",
        "colab": {
          "base_uri": "https://localhost:8080/",
          "height": 286
        },
        "outputId": "f1ab9970-6d41-446a-efb6-0d19a2eb19fa"
      },
      "source": [
        "# area under curve of ROC is a good alternative to accuracy\n",
        "from sklearn.metrics import roc_curve\n",
        "from sklearn.metrics import roc_auc_score\n",
        "from matplotlib import pyplot\n",
        "\n",
        "probs = classifier.predict_proba(X_train)[:,1]\n",
        "# calculate AUC\n",
        "auc = roc_auc_score(y_train, probs)\n",
        "print('AUC: %.3f' % auc)\n",
        "# calculate roc curve\n",
        "fpr, tpr, thresholds = roc_curve(y_train, probs)\n",
        "# plot no skill\n",
        "pyplot.plot([0, 1], [0, 1], linestyle='--')\n",
        "# plot the roc curve for the model\n",
        "pyplot.plot(fpr, tpr, marker='.')\n",
        "# show the plot\n",
        "pyplot.show()"
      ],
      "execution_count": 153,
      "outputs": [
        {
          "output_type": "stream",
          "text": [
            "AUC: 0.664\n"
          ],
          "name": "stdout"
        },
        {
          "output_type": "display_data",
          "data": {
            "image/png": "[encoded data removed]",
            "text/plain": [
              "<Figure size 432x288 with 1 Axes>"
            ]
          },
          "metadata": {
            "tags": []
          }
        }
      ]
    },
    {
      "cell_type": "markdown",
      "metadata": {
        "id": "w4MhSff8iA5n",
        "colab_type": "text"
      },
      "source": [
        "### Cross Validation"
      ]
    },
    {
      "cell_type": "code",
      "metadata": {
        "id": "7xp0IbKDiA5p",
        "colab_type": "code",
        "outputId": "6a3e28ae-c66d-4df1-a07b-554f0e49a72b",
        "colab": {}
      },
      "source": [
        "from sklearn.model_selection import cross_val_score\n",
        "scores = cross_val_score(classifier, X_train, y_train, cv = 5, scoring='accuracy') # can change scoring metric\n",
        "print scores"
      ],
      "execution_count": 0,
      "outputs": [
        {
          "output_type": "stream",
          "text": [
            "[0.59615385 0.50980392 0.46       0.57142857 0.5625    ]\n"
          ],
          "name": "stdout"
        }
      ]
    },
    {
      "cell_type": "markdown",
      "metadata": {
        "id": "XKMZamiSiA5v",
        "colab_type": "text"
      },
      "source": [
        "### Multi class (confusion matrix) : \n",
        "* We compute a matrix $C$ where $C_{i,j}$ representes  the number of points whose actual class is $i$ but is predicted as $j$.\n",
        "* For binary classification, this will result in the same as the image above (TP, TF, FN, FP)"
      ]
    },
    {
      "cell_type": "markdown",
      "metadata": {
        "id": "ZWYK0fnsiA5v",
        "colab_type": "text"
      },
      "source": [
        "#### We now extend these metrics for multiclass classification problems"
      ]
    },
    {
      "cell_type": "code",
      "metadata": {
        "id": "RMm0ryn8iA5v",
        "colab_type": "code",
        "colab": {}
      },
      "source": [
        "# Creation of Data\n",
        "# generate 2d classification dataset\n",
        "X, y = make_blobs(n_samples=500, centers = 5, n_features=2,random_state=seed) #5 classes 100 for each"
      ],
      "execution_count": 0,
      "outputs": []
    },
    {
      "cell_type": "code",
      "metadata": {
        "id": "JQ6qYH-B3NyZ",
        "colab_type": "code",
        "colab": {
          "base_uri": "https://localhost:8080/",
          "height": 283
        },
        "outputId": "a8e18cea-bc04-46b9-83b8-26a4c918bbbb"
      },
      "source": [
        "# scatter plot, dots colored by class value\n",
        "df = DataFrame(dict(x=X[:,0], y=X[:,1], label=y))\n",
        "colors = {0:'red', 1:'blue', 2:'green', 3:'yellow',4:'black'}\n",
        "fig, ax = pyplot.subplots()\n",
        "grouped = df.groupby('label')\n",
        "for key, group in grouped:\n",
        "    group.plot(ax=ax, kind='scatter', x='x', y='y', label=key, color=colors[key])\n",
        "pyplot.show()"
      ],
      "execution_count": 26,
      "outputs": [
        {
          "output_type": "display_data",
          "data": {
            "image/png": "[encoded data removed]",
            "text/plain": [
              "<Figure size 432x288 with 1 Axes>"
            ]
          },
          "metadata": {
            "tags": []
          }
        }
      ]
    },
    {
      "cell_type": "code",
      "metadata": {
        "id": "FkoqJus9iA5w",
        "colab_type": "code",
        "colab": {}
      },
      "source": [
        "# Split into train and test\n",
        "from sklearn.model_selection import train_test_split\n",
        "X_train, X_test, y_train, y_test = train_test_split(X, y, test_size=0.5, random_state=seed) #randomly sampled"
      ],
      "execution_count": 0,
      "outputs": []
    },
    {
      "cell_type": "markdown",
      "metadata": {
        "id": "07Z6pDLPiA5x",
        "colab_type": "text"
      },
      "source": [
        "#### Using KNN Classifier"
      ]
    },
    {
      "cell_type": "code",
      "metadata": {
        "id": "IOv6AFL1iA5x",
        "colab_type": "code",
        "outputId": "eb76d463-3c0d-419b-d261-ac459f020b2c",
        "colab": {
          "base_uri": "https://localhost:8080/",
          "height": 68
        }
      },
      "source": [
        "from sklearn.neighbors import KNeighborsClassifier\n",
        "neigh = KNeighborsClassifier(n_neighbors=5) # has to be odd \n",
        "neigh.fit(X_train, y_train) "
      ],
      "execution_count": 28,
      "outputs": [
        {
          "output_type": "execute_result",
          "data": {
            "text/plain": [
              "KNeighborsClassifier(algorithm='auto', leaf_size=30, metric='minkowski',\n",
              "           metric_params=None, n_jobs=None, n_neighbors=5, p=2,\n",
              "           weights='uniform')"
            ]
          },
          "metadata": {
            "tags": []
          },
          "execution_count": 28
        }
      ]
    },
    {
      "cell_type": "code",
      "metadata": {
        "id": "QOgugwI-iA5z",
        "colab_type": "code",
        "colab": {}
      },
      "source": [
        "y_train_pred = neigh.predict(X_train)\n",
        "y_test_pred = neigh.predict(X_test)"
      ],
      "execution_count": 0,
      "outputs": []
    },
    {
      "cell_type": "code",
      "metadata": {
        "id": "RhqT9r6SiA50",
        "colab_type": "code",
        "outputId": "4906a0b7-a55b-416e-99fa-7ece31395083",
        "colab": {
          "base_uri": "https://localhost:8080/",
          "height": 102
        }
      },
      "source": [
        "from sklearn.metrics import confusion_matrix\n",
        "confusion_matrix(y_train, y_train_pred)"
      ],
      "execution_count": 30,
      "outputs": [
        {
          "output_type": "execute_result",
          "data": {
            "text/plain": [
              "array([[51,  0,  0,  1,  0],\n",
              "       [ 1, 43,  1,  0,  0],\n",
              "       [ 3,  0, 50,  0,  0],\n",
              "       [ 2,  0,  0, 52,  0],\n",
              "       [ 0,  0,  0,  0, 46]])"
            ]
          },
          "metadata": {
            "tags": []
          },
          "execution_count": 30
        }
      ]
    },
    {
      "cell_type": "code",
      "metadata": {
        "id": "Terhab5GiA51",
        "colab_type": "code",
        "outputId": "ce6ff757-5560-466e-b506-b5d9521c7198",
        "colab": {
          "base_uri": "https://localhost:8080/",
          "height": 102
        }
      },
      "source": [
        "confusion_matrix(y_test, y_test_pred)"
      ],
      "execution_count": 31,
      "outputs": [
        {
          "output_type": "execute_result",
          "data": {
            "text/plain": [
              "array([[42,  1,  4,  1,  0],\n",
              "       [ 4, 51,  0,  0,  0],\n",
              "       [ 6,  0, 41,  0,  0],\n",
              "       [ 2,  0,  1, 43,  0],\n",
              "       [ 0,  0,  0,  0, 54]])"
            ]
          },
          "metadata": {
            "tags": []
          },
          "execution_count": 31
        }
      ]
    }
  ]
}