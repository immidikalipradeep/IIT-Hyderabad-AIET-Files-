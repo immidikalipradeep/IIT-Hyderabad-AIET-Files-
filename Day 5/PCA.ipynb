{
  "nbformat": 4,
  "nbformat_minor": 0,
  "metadata": {
    "colab": {
      "name": "PCA.ipynb",
      "version": "0.3.2",
      "provenance": [],
      "collapsed_sections": []
    },
    "language_info": {
      "codemirror_mode": {
        "name": "ipython",
        "version": 3
      },
      "file_extension": ".py",
      "mimetype": "text/x-python",
      "name": "python",
      "nbconvert_exporter": "python",
      "pygments_lexer": "ipython3",
      "version": "3.6.7"
    },
    "kernelspec": {
      "display_name": "Python 3",
      "language": "python",
      "name": "python3"
    }
  },
  "cells": [
    {
      "cell_type": "markdown",
      "metadata": {
        "id": "6vR0dy237pdH",
        "colab_type": "text"
      },
      "source": [
        "#Principal Component Analysis :\n",
        "\n",
        "##PCA reduces the number of variables of a data set, while preserving as much information as possible."
      ]
    },
    {
      "cell_type": "markdown",
      "metadata": {
        "id": "b6AVOSP37u0I",
        "colab_type": "text"
      },
      "source": [
        "## IMPORT THE DATA"
      ]
    },
    {
      "cell_type": "code",
      "metadata": {
        "id": "hz3j12_DnPAp",
        "colab_type": "code",
        "outputId": "0f681e29-5eeb-4c49-9b1c-9479f8a70a11",
        "colab": {
          "base_uri": "https://localhost:8080/",
          "height": 2753
        }
      },
      "source": [
        "import numpy as np\n",
        "import pandas as pd\n",
        "import matplotlib.pyplot as plt\n",
        "\n",
        "dataSet = pd.read_csv(r\"https://archive.ics.uci.edu/ml/machine-learning-databases/iris/iris.data\",header=None)\n",
        "\n",
        "dataSet02 = pd.DataFrame.to_numpy(dataSet)\n",
        "\n",
        "labels = np.unique(dataSet02[:,4])\n",
        "\n",
        "print(dataSet02)\n",
        "print(labels)\n",
        "print(np.shape(dataSet02))\n"
      ],
      "execution_count": 0,
      "outputs": [
        {
          "output_type": "stream",
          "text": [
            "[[5.1 3.5 1.4 0.2 'Iris-setosa']\n",
            " [4.9 3.0 1.4 0.2 'Iris-setosa']\n",
            " [4.7 3.2 1.3 0.2 'Iris-setosa']\n",
            " [4.6 3.1 1.5 0.2 'Iris-setosa']\n",
            " [5.0 3.6 1.4 0.2 'Iris-setosa']\n",
            " [5.4 3.9 1.7 0.4 'Iris-setosa']\n",
            " [4.6 3.4 1.4 0.3 'Iris-setosa']\n",
            " [5.0 3.4 1.5 0.2 'Iris-setosa']\n",
            " [4.4 2.9 1.4 0.2 'Iris-setosa']\n",
            " [4.9 3.1 1.5 0.1 'Iris-setosa']\n",
            " [5.4 3.7 1.5 0.2 'Iris-setosa']\n",
            " [4.8 3.4 1.6 0.2 'Iris-setosa']\n",
            " [4.8 3.0 1.4 0.1 'Iris-setosa']\n",
            " [4.3 3.0 1.1 0.1 'Iris-setosa']\n",
            " [5.8 4.0 1.2 0.2 'Iris-setosa']\n",
            " [5.7 4.4 1.5 0.4 'Iris-setosa']\n",
            " [5.4 3.9 1.3 0.4 'Iris-setosa']\n",
            " [5.1 3.5 1.4 0.3 'Iris-setosa']\n",
            " [5.7 3.8 1.7 0.3 'Iris-setosa']\n",
            " [5.1 3.8 1.5 0.3 'Iris-setosa']\n",
            " [5.4 3.4 1.7 0.2 'Iris-setosa']\n",
            " [5.1 3.7 1.5 0.4 'Iris-setosa']\n",
            " [4.6 3.6 1.0 0.2 'Iris-setosa']\n",
            " [5.1 3.3 1.7 0.5 'Iris-setosa']\n",
            " [4.8 3.4 1.9 0.2 'Iris-setosa']\n",
            " [5.0 3.0 1.6 0.2 'Iris-setosa']\n",
            " [5.0 3.4 1.6 0.4 'Iris-setosa']\n",
            " [5.2 3.5 1.5 0.2 'Iris-setosa']\n",
            " [5.2 3.4 1.4 0.2 'Iris-setosa']\n",
            " [4.7 3.2 1.6 0.2 'Iris-setosa']\n",
            " [4.8 3.1 1.6 0.2 'Iris-setosa']\n",
            " [5.4 3.4 1.5 0.4 'Iris-setosa']\n",
            " [5.2 4.1 1.5 0.1 'Iris-setosa']\n",
            " [5.5 4.2 1.4 0.2 'Iris-setosa']\n",
            " [4.9 3.1 1.5 0.1 'Iris-setosa']\n",
            " [5.0 3.2 1.2 0.2 'Iris-setosa']\n",
            " [5.5 3.5 1.3 0.2 'Iris-setosa']\n",
            " [4.9 3.1 1.5 0.1 'Iris-setosa']\n",
            " [4.4 3.0 1.3 0.2 'Iris-setosa']\n",
            " [5.1 3.4 1.5 0.2 'Iris-setosa']\n",
            " [5.0 3.5 1.3 0.3 'Iris-setosa']\n",
            " [4.5 2.3 1.3 0.3 'Iris-setosa']\n",
            " [4.4 3.2 1.3 0.2 'Iris-setosa']\n",
            " [5.0 3.5 1.6 0.6 'Iris-setosa']\n",
            " [5.1 3.8 1.9 0.4 'Iris-setosa']\n",
            " [4.8 3.0 1.4 0.3 'Iris-setosa']\n",
            " [5.1 3.8 1.6 0.2 'Iris-setosa']\n",
            " [4.6 3.2 1.4 0.2 'Iris-setosa']\n",
            " [5.3 3.7 1.5 0.2 'Iris-setosa']\n",
            " [5.0 3.3 1.4 0.2 'Iris-setosa']\n",
            " [7.0 3.2 4.7 1.4 'Iris-versicolor']\n",
            " [6.4 3.2 4.5 1.5 'Iris-versicolor']\n",
            " [6.9 3.1 4.9 1.5 'Iris-versicolor']\n",
            " [5.5 2.3 4.0 1.3 'Iris-versicolor']\n",
            " [6.5 2.8 4.6 1.5 'Iris-versicolor']\n",
            " [5.7 2.8 4.5 1.3 'Iris-versicolor']\n",
            " [6.3 3.3 4.7 1.6 'Iris-versicolor']\n",
            " [4.9 2.4 3.3 1.0 'Iris-versicolor']\n",
            " [6.6 2.9 4.6 1.3 'Iris-versicolor']\n",
            " [5.2 2.7 3.9 1.4 'Iris-versicolor']\n",
            " [5.0 2.0 3.5 1.0 'Iris-versicolor']\n",
            " [5.9 3.0 4.2 1.5 'Iris-versicolor']\n",
            " [6.0 2.2 4.0 1.0 'Iris-versicolor']\n",
            " [6.1 2.9 4.7 1.4 'Iris-versicolor']\n",
            " [5.6 2.9 3.6 1.3 'Iris-versicolor']\n",
            " [6.7 3.1 4.4 1.4 'Iris-versicolor']\n",
            " [5.6 3.0 4.5 1.5 'Iris-versicolor']\n",
            " [5.8 2.7 4.1 1.0 'Iris-versicolor']\n",
            " [6.2 2.2 4.5 1.5 'Iris-versicolor']\n",
            " [5.6 2.5 3.9 1.1 'Iris-versicolor']\n",
            " [5.9 3.2 4.8 1.8 'Iris-versicolor']\n",
            " [6.1 2.8 4.0 1.3 'Iris-versicolor']\n",
            " [6.3 2.5 4.9 1.5 'Iris-versicolor']\n",
            " [6.1 2.8 4.7 1.2 'Iris-versicolor']\n",
            " [6.4 2.9 4.3 1.3 'Iris-versicolor']\n",
            " [6.6 3.0 4.4 1.4 'Iris-versicolor']\n",
            " [6.8 2.8 4.8 1.4 'Iris-versicolor']\n",
            " [6.7 3.0 5.0 1.7 'Iris-versicolor']\n",
            " [6.0 2.9 4.5 1.5 'Iris-versicolor']\n",
            " [5.7 2.6 3.5 1.0 'Iris-versicolor']\n",
            " [5.5 2.4 3.8 1.1 'Iris-versicolor']\n",
            " [5.5 2.4 3.7 1.0 'Iris-versicolor']\n",
            " [5.8 2.7 3.9 1.2 'Iris-versicolor']\n",
            " [6.0 2.7 5.1 1.6 'Iris-versicolor']\n",
            " [5.4 3.0 4.5 1.5 'Iris-versicolor']\n",
            " [6.0 3.4 4.5 1.6 'Iris-versicolor']\n",
            " [6.7 3.1 4.7 1.5 'Iris-versicolor']\n",
            " [6.3 2.3 4.4 1.3 'Iris-versicolor']\n",
            " [5.6 3.0 4.1 1.3 'Iris-versicolor']\n",
            " [5.5 2.5 4.0 1.3 'Iris-versicolor']\n",
            " [5.5 2.6 4.4 1.2 'Iris-versicolor']\n",
            " [6.1 3.0 4.6 1.4 'Iris-versicolor']\n",
            " [5.8 2.6 4.0 1.2 'Iris-versicolor']\n",
            " [5.0 2.3 3.3 1.0 'Iris-versicolor']\n",
            " [5.6 2.7 4.2 1.3 'Iris-versicolor']\n",
            " [5.7 3.0 4.2 1.2 'Iris-versicolor']\n",
            " [5.7 2.9 4.2 1.3 'Iris-versicolor']\n",
            " [6.2 2.9 4.3 1.3 'Iris-versicolor']\n",
            " [5.1 2.5 3.0 1.1 'Iris-versicolor']\n",
            " [5.7 2.8 4.1 1.3 'Iris-versicolor']\n",
            " [6.3 3.3 6.0 2.5 'Iris-virginica']\n",
            " [5.8 2.7 5.1 1.9 'Iris-virginica']\n",
            " [7.1 3.0 5.9 2.1 'Iris-virginica']\n",
            " [6.3 2.9 5.6 1.8 'Iris-virginica']\n",
            " [6.5 3.0 5.8 2.2 'Iris-virginica']\n",
            " [7.6 3.0 6.6 2.1 'Iris-virginica']\n",
            " [4.9 2.5 4.5 1.7 'Iris-virginica']\n",
            " [7.3 2.9 6.3 1.8 'Iris-virginica']\n",
            " [6.7 2.5 5.8 1.8 'Iris-virginica']\n",
            " [7.2 3.6 6.1 2.5 'Iris-virginica']\n",
            " [6.5 3.2 5.1 2.0 'Iris-virginica']\n",
            " [6.4 2.7 5.3 1.9 'Iris-virginica']\n",
            " [6.8 3.0 5.5 2.1 'Iris-virginica']\n",
            " [5.7 2.5 5.0 2.0 'Iris-virginica']\n",
            " [5.8 2.8 5.1 2.4 'Iris-virginica']\n",
            " [6.4 3.2 5.3 2.3 'Iris-virginica']\n",
            " [6.5 3.0 5.5 1.8 'Iris-virginica']\n",
            " [7.7 3.8 6.7 2.2 'Iris-virginica']\n",
            " [7.7 2.6 6.9 2.3 'Iris-virginica']\n",
            " [6.0 2.2 5.0 1.5 'Iris-virginica']\n",
            " [6.9 3.2 5.7 2.3 'Iris-virginica']\n",
            " [5.6 2.8 4.9 2.0 'Iris-virginica']\n",
            " [7.7 2.8 6.7 2.0 'Iris-virginica']\n",
            " [6.3 2.7 4.9 1.8 'Iris-virginica']\n",
            " [6.7 3.3 5.7 2.1 'Iris-virginica']\n",
            " [7.2 3.2 6.0 1.8 'Iris-virginica']\n",
            " [6.2 2.8 4.8 1.8 'Iris-virginica']\n",
            " [6.1 3.0 4.9 1.8 'Iris-virginica']\n",
            " [6.4 2.8 5.6 2.1 'Iris-virginica']\n",
            " [7.2 3.0 5.8 1.6 'Iris-virginica']\n",
            " [7.4 2.8 6.1 1.9 'Iris-virginica']\n",
            " [7.9 3.8 6.4 2.0 'Iris-virginica']\n",
            " [6.4 2.8 5.6 2.2 'Iris-virginica']\n",
            " [6.3 2.8 5.1 1.5 'Iris-virginica']\n",
            " [6.1 2.6 5.6 1.4 'Iris-virginica']\n",
            " [7.7 3.0 6.1 2.3 'Iris-virginica']\n",
            " [6.3 3.4 5.6 2.4 'Iris-virginica']\n",
            " [6.4 3.1 5.5 1.8 'Iris-virginica']\n",
            " [6.0 3.0 4.8 1.8 'Iris-virginica']\n",
            " [6.9 3.1 5.4 2.1 'Iris-virginica']\n",
            " [6.7 3.1 5.6 2.4 'Iris-virginica']\n",
            " [6.9 3.1 5.1 2.3 'Iris-virginica']\n",
            " [5.8 2.7 5.1 1.9 'Iris-virginica']\n",
            " [6.8 3.2 5.9 2.3 'Iris-virginica']\n",
            " [6.7 3.3 5.7 2.5 'Iris-virginica']\n",
            " [6.7 3.0 5.2 2.3 'Iris-virginica']\n",
            " [6.3 2.5 5.0 1.9 'Iris-virginica']\n",
            " [6.5 3.0 5.2 2.0 'Iris-virginica']\n",
            " [6.2 3.4 5.4 2.3 'Iris-virginica']\n",
            " [5.9 3.0 5.1 1.8 'Iris-virginica']]\n",
            "['Iris-setosa' 'Iris-versicolor' 'Iris-virginica']\n",
            "(150, 5)\n"
          ],
          "name": "stdout"
        }
      ]
    },
    {
      "cell_type": "markdown",
      "metadata": {
        "id": "e_L0wbKEnPAt",
        "colab_type": "text"
      },
      "source": [
        "## Use inbuilt PCA To Find 1 & 2nd Principal Components"
      ]
    },
    {
      "cell_type": "code",
      "metadata": {
        "id": "aXQhbYXAnPAu",
        "colab_type": "code",
        "outputId": "68a2051a-da24-4297-9df3-78b27a764ca2",
        "colab": {
          "base_uri": "https://localhost:8080/",
          "height": 2717
        }
      },
      "source": [
        "from sklearn.decomposition import PCA\n",
        "\n",
        "components = PCA(n_components=2).fit_transform(dataSet02[:,:-1])\n",
        "\n",
        "print(components)"
      ],
      "execution_count": 0,
      "outputs": [
        {
          "output_type": "stream",
          "text": [
            "[[-2.68420713  0.32660731]\n",
            " [-2.71539062 -0.16955685]\n",
            " [-2.88981954 -0.13734561]\n",
            " [-2.7464372  -0.31112432]\n",
            " [-2.72859298  0.33392456]\n",
            " [-2.27989736  0.74778271]\n",
            " [-2.82089068 -0.08210451]\n",
            " [-2.62648199  0.17040535]\n",
            " [-2.88795857 -0.57079803]\n",
            " [-2.67384469 -0.1066917 ]\n",
            " [-2.50652679  0.65193501]\n",
            " [-2.61314272  0.02152063]\n",
            " [-2.78743398 -0.22774019]\n",
            " [-3.22520045 -0.50327991]\n",
            " [-2.64354322  1.1861949 ]\n",
            " [-2.38386932  1.34475434]\n",
            " [-2.6225262   0.81808967]\n",
            " [-2.64832273  0.31913667]\n",
            " [-2.19907796  0.87924409]\n",
            " [-2.58734619  0.52047364]\n",
            " [-2.3105317   0.39786782]\n",
            " [-2.54323491  0.44003175]\n",
            " [-3.21585769  0.14161557]\n",
            " [-2.30312854  0.10552268]\n",
            " [-2.35617109 -0.03120959]\n",
            " [-2.50791723 -0.13905634]\n",
            " [-2.469056    0.13788731]\n",
            " [-2.56239095  0.37468456]\n",
            " [-2.63982127  0.31929007]\n",
            " [-2.63284791 -0.19007583]\n",
            " [-2.58846205 -0.19739308]\n",
            " [-2.41007734  0.41808001]\n",
            " [-2.64763667  0.81998263]\n",
            " [-2.59715948  1.10002193]\n",
            " [-2.67384469 -0.1066917 ]\n",
            " [-2.86699985  0.0771931 ]\n",
            " [-2.62522846  0.60680001]\n",
            " [-2.67384469 -0.1066917 ]\n",
            " [-2.98184266 -0.48025005]\n",
            " [-2.59032303  0.23605934]\n",
            " [-2.77013891  0.27105942]\n",
            " [-2.85221108 -0.93286537]\n",
            " [-2.99829644 -0.33430757]\n",
            " [-2.4055141   0.19591726]\n",
            " [-2.20883295  0.44269603]\n",
            " [-2.71566519 -0.24268148]\n",
            " [-2.53757337  0.51036755]\n",
            " [-2.8403213  -0.22057634]\n",
            " [-2.54268576  0.58628103]\n",
            " [-2.70391231  0.11501085]\n",
            " [ 1.28479459  0.68543919]\n",
            " [ 0.93241075  0.31919809]\n",
            " [ 1.46406132  0.50418983]\n",
            " [ 0.18096721 -0.82560394]\n",
            " [ 1.08713449  0.07539039]\n",
            " [ 0.64043675 -0.41732348]\n",
            " [ 1.09522371  0.28389121]\n",
            " [-0.75146714 -1.00110751]\n",
            " [ 1.04329778  0.22895691]\n",
            " [-0.01019007 -0.72057487]\n",
            " [-0.5110862  -1.26249195]\n",
            " [ 0.51109806 -0.10228411]\n",
            " [ 0.26233576 -0.5478933 ]\n",
            " [ 0.98404455 -0.12436042]\n",
            " [-0.174864   -0.25181557]\n",
            " [ 0.92757294  0.46823621]\n",
            " [ 0.65959279 -0.35197629]\n",
            " [ 0.23454059 -0.33192183]\n",
            " [ 0.94236171 -0.54182226]\n",
            " [ 0.0432464  -0.58148945]\n",
            " [ 1.11624072 -0.08421401]\n",
            " [ 0.35678657 -0.06682383]\n",
            " [ 1.29646885 -0.32756152]\n",
            " [ 0.92050265 -0.18239036]\n",
            " [ 0.71400821  0.15037915]\n",
            " [ 0.89964086  0.32961098]\n",
            " [ 1.33104142  0.24466952]\n",
            " [ 1.55739627  0.26739258]\n",
            " [ 0.81245555 -0.16233157]\n",
            " [-0.30733476 -0.36508661]\n",
            " [-0.07034289 -0.70253793]\n",
            " [-0.19188449 -0.67749054]\n",
            " [ 0.13499495 -0.31170964]\n",
            " [ 1.37873698 -0.42120514]\n",
            " [ 0.58727485 -0.48328427]\n",
            " [ 0.8072055   0.19505396]\n",
            " [ 1.22042897  0.40803534]\n",
            " [ 0.81286779 -0.370679  ]\n",
            " [ 0.24519516 -0.26672804]\n",
            " [ 0.16451343 -0.67966147]\n",
            " [ 0.46303099 -0.66952655]\n",
            " [ 0.89016045 -0.03381244]\n",
            " [ 0.22887905 -0.40225762]\n",
            " [-0.70708128 -1.00842476]\n",
            " [ 0.35553304 -0.50321849]\n",
            " [ 0.33112695 -0.21118014]\n",
            " [ 0.37523823 -0.29162202]\n",
            " [ 0.64169028  0.01907118]\n",
            " [-0.90846333 -0.75156873]\n",
            " [ 0.29780791 -0.34701652]\n",
            " [ 2.53172698 -0.01184224]\n",
            " [ 1.41407223 -0.57492506]\n",
            " [ 2.61648461  0.34193529]\n",
            " [ 1.97081495 -0.18112569]\n",
            " [ 2.34975798 -0.04188255]\n",
            " [ 3.39687992  0.54716805]\n",
            " [ 0.51938325 -1.19135169]\n",
            " [ 2.9320051   0.35237701]\n",
            " [ 2.31967279 -0.24554817]\n",
            " [ 2.91813423  0.78038063]\n",
            " [ 1.66193495  0.2420384 ]\n",
            " [ 1.80234045 -0.21615461]\n",
            " [ 2.16537886  0.21528028]\n",
            " [ 1.34459422 -0.77641543]\n",
            " [ 1.5852673  -0.53930705]\n",
            " [ 1.90474358  0.11881899]\n",
            " [ 1.94924878  0.04073026]\n",
            " [ 3.48876538  1.17154454]\n",
            " [ 3.79468686  0.25326557]\n",
            " [ 1.29832982 -0.76101394]\n",
            " [ 2.42816726  0.37678197]\n",
            " [ 1.19809737 -0.60557896]\n",
            " [ 3.49926548  0.45677347]\n",
            " [ 1.38766825 -0.20403099]\n",
            " [ 2.27585365  0.33338653]\n",
            " [ 2.61419383  0.55836695]\n",
            " [ 1.25762518 -0.179137  ]\n",
            " [ 1.29066965 -0.11642525]\n",
            " [ 2.12285398 -0.21085488]\n",
            " [ 2.3875644   0.46251925]\n",
            " [ 2.84096093  0.37274259]\n",
            " [ 3.2323429   1.37052404]\n",
            " [ 2.15873837 -0.21832553]\n",
            " [ 1.4431026  -0.14380129]\n",
            " [ 1.77964011 -0.50146479]\n",
            " [ 3.07652162  0.68576444]\n",
            " [ 2.14498686  0.13890661]\n",
            " [ 1.90486293  0.04804751]\n",
            " [ 1.16885347 -0.1645025 ]\n",
            " [ 2.10765373  0.37148225]\n",
            " [ 2.31430339  0.18260885]\n",
            " [ 1.92245088  0.40927118]\n",
            " [ 1.41407223 -0.57492506]\n",
            " [ 2.56332271  0.2759745 ]\n",
            " [ 2.41939122  0.30350394]\n",
            " [ 1.94401705  0.18741522]\n",
            " [ 1.52566363 -0.37502085]\n",
            " [ 1.76404594  0.07851919]\n",
            " [ 1.90162908  0.11587675]\n",
            " [ 1.38966613 -0.28288671]]\n"
          ],
          "name": "stdout"
        }
      ]
    },
    {
      "cell_type": "markdown",
      "metadata": {
        "id": "vQWygi-AnPAx",
        "colab_type": "text"
      },
      "source": [
        "##Plot the data using 1st & 2nd Principal Components"
      ]
    },
    {
      "cell_type": "code",
      "metadata": {
        "id": "Z963R39VnPAy",
        "colab_type": "code",
        "outputId": "5d600234-c4cd-4f86-8bcc-b7a2375cf96a",
        "colab": {
          "base_uri": "https://localhost:8080/",
          "height": 595
        }
      },
      "source": [
        "\n",
        "LABEL_COLOR_MAP = {'Iris-setosa' : 'blue',\n",
        "                   'Iris-versicolor': 'black',\n",
        "                   'Iris-virginica':'green' \n",
        "                  }\n",
        "\n",
        "label_color = [LABEL_COLOR_MAP[l] for l in dataSet02[:,4]]\n",
        "\n",
        "fig = plt.figure(figsize=(18, 10))\n",
        "ax = fig.add_subplot(111)\n",
        "ax.scatter(components[:,0],components[:,1], c=label_color, s=100)\n",
        "\n",
        "plt.show()"
      ],
      "execution_count": 0,
      "outputs": [
        {
          "output_type": "display_data",
          "data": {
            "image/png": "[encoded data removed]",
            "text/plain": [
              "<Figure size 1152x720 with 1 Axes>"
            ]
          },
          "metadata": {
            "tags": []
          }
        }
      ]
    },
    {
      "cell_type": "markdown",
      "metadata": {
        "id": "dQ75joBHnPA0",
        "colab_type": "text"
      },
      "source": [
        "## Observation:"
      ]
    },
    {
      "cell_type": "markdown",
      "metadata": {
        "id": "5iUjwRknnPA0",
        "colab_type": "text"
      },
      "source": [
        "1. In a lower dimensional subspace the samples are most spread along the new feature axes.\n",
        "2. Data spread is more along the  1st principal component as compared to second principal component.\n",
        "3. Cluster separation are not distinct."
      ]
    },
    {
      "cell_type": "markdown",
      "metadata": {
        "id": "mOVp2-sMNMjO",
        "colab_type": "text"
      },
      "source": [
        "#-----------------------------------------------------------------------------------------"
      ]
    },
    {
      "cell_type": "markdown",
      "metadata": {
        "id": "ClPI2rrhzReW",
        "colab_type": "text"
      },
      "source": [
        "###Split data into training and test datasets (training will be based on 70% of data)"
      ]
    },
    {
      "cell_type": "code",
      "metadata": {
        "id": "SruSzfgonPBE",
        "colab_type": "code",
        "outputId": "4a94ff2c-fb1a-441b-cac9-0b88e3bcb159",
        "colab": {
          "base_uri": "https://localhost:8080/",
          "height": 67
        }
      },
      "source": [
        "\n",
        "from sklearn.model_selection import train_test_split\n",
        "\n",
        "X_train, X_test, y_train, y_test = train_test_split(dataSet02[:,:-1], dataSet02[:,4] , test_size=0.3, random_state=0) \n",
        "\n",
        "\n",
        "print('\\n \\n There are {} samples in the training set and {} samples in the test set'.format(X_train.shape[0], X_test.shape[0]))"
      ],
      "execution_count": 0,
      "outputs": [
        {
          "output_type": "stream",
          "text": [
            "\n",
            " \n",
            " There are 105 samples in the training set and 45 samples in the test set\n"
          ],
          "name": "stdout"
        }
      ]
    },
    {
      "cell_type": "code",
      "metadata": {
        "id": "FO5ePfRMxC4N",
        "colab_type": "code",
        "outputId": "0949c238-01da-4e28-9daa-e0201c6a8562",
        "colab": {
          "base_uri": "https://localhost:8080/",
          "height": 34
        }
      },
      "source": [
        "#Applying Knn\n",
        "from sklearn.neighbors import KNeighborsClassifier\n",
        "\n",
        "knn = KNeighborsClassifier(n_neighbors = 7, p = 2, metric='minkowski')\n",
        "knn.fit(X_train, y_train)\n",
        "\n",
        "\n",
        "print('The accuracy of the Knn classifier on test data is {:.2f}'.format(knn.score(X_test, y_test)))"
      ],
      "execution_count": 0,
      "outputs": [
        {
          "output_type": "stream",
          "text": [
            "The accuracy of the Knn classifier on test data is 0.98\n"
          ],
          "name": "stdout"
        }
      ]
    },
    {
      "cell_type": "markdown",
      "metadata": {
        "id": "ZdADgf4hNIqS",
        "colab_type": "text"
      },
      "source": [
        "#--------------------------------------------------------------------------------------------"
      ]
    },
    {
      "cell_type": "code",
      "metadata": {
        "id": "xoFkn6TszNis",
        "colab_type": "code",
        "outputId": "8d36e01a-3f69-4523-e53d-ce25b9448c7c",
        "colab": {
          "base_uri": "https://localhost:8080/",
          "height": 67
        }
      },
      "source": [
        "from sklearn.model_selection import train_test_split\n",
        "\n",
        "X_train01, X_test01, y_train01, y_test01 = train_test_split(components, dataSet02[:,4] , test_size=0.3, random_state=0) \n",
        "\n",
        "\n",
        "print(\"\\n \\n There are {} samples in the training set and {} samples in the test set\".format(X_train01.shape[0], X_test01.shape[0]))"
      ],
      "execution_count": 0,
      "outputs": [
        {
          "output_type": "stream",
          "text": [
            "\n",
            " \n",
            " There are 105 samples in the training set and 45 samples in the test set\n"
          ],
          "name": "stdout"
        }
      ]
    },
    {
      "cell_type": "code",
      "metadata": {
        "id": "cnTzn9or0ztd",
        "colab_type": "code",
        "outputId": "66069ced-ee61-4d4b-8461-27f29f7e6912",
        "colab": {
          "base_uri": "https://localhost:8080/",
          "height": 34
        }
      },
      "source": [
        "#Applying Knn\n",
        "from sklearn.neighbors import KNeighborsClassifier\n",
        "\n",
        "knn = KNeighborsClassifier(n_neighbors = 7, p = 2, metric='minkowski')\n",
        "knn.fit(X_train01, y_train01)\n",
        "\n",
        "print('The accuracy of the Knn classifier on test data is {:.2f}'.format(knn.score(X_test01, y_test01)))"
      ],
      "execution_count": 0,
      "outputs": [
        {
          "output_type": "stream",
          "text": [
            "The accuracy of the Knn classifier on test data is 0.98\n"
          ],
          "name": "stdout"
        }
      ]
    },
    {
      "cell_type": "code",
      "metadata": {
        "id": "UmulUF9i07yd",
        "colab_type": "code",
        "colab": {}
      },
      "source": [
        ""
      ],
      "execution_count": 0,
      "outputs": []
    },
    {
      "cell_type": "markdown",
      "metadata": {
        "id": "jcEwvPkh79Og",
        "colab_type": "text"
      },
      "source": [
        "##Refer the link to get insight about how to implement PCA\n",
        "\n",
        ">https://towardsdatascience.com/a-step-by-step-explanation-of-principal-component-analysis-b836fb9c97e2"
      ]
    },
    {
      "cell_type": "code",
      "metadata": {
        "id": "a8WDtgLg8V0m",
        "colab_type": "code",
        "colab": {}
      },
      "source": [
        ""
      ],
      "execution_count": 0,
      "outputs": []
    }
  ]
}