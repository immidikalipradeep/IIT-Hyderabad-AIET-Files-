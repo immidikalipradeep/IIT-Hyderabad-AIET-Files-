{
  "nbformat": 4,
  "nbformat_minor": 0,
  "metadata": {
    "colab": {
      "name": "LinearAlgebraExercises.ipynb",
      "version": "0.3.2",
      "provenance": [],
      "collapsed_sections": []
    },
    "kernelspec": {
      "name": "python3",
      "display_name": "Python 3"
    }
  },
  "cells": [
    {
      "cell_type": "code",
      "metadata": {
        "id": "m6vdhOmOLV7Y",
        "colab_type": "code",
        "colab": {}
      },
      "source": [
        ""
      ],
      "execution_count": 0,
      "outputs": []
    },
    {
      "cell_type": "markdown",
      "metadata": {
        "id": "MtxMSRyELg1k",
        "colab_type": "text"
      },
      "source": [
        "# Angle between two nonnegative vectors"
      ]
    },
    {
      "cell_type": "code",
      "metadata": {
        "id": "YSK7FLIcLn-V",
        "colab_type": "code",
        "outputId": "eed3bc20-e061-45c1-abc8-5f2eab67e74b",
        "colab": {
          "base_uri": "https://localhost:8080/",
          "height": 50
        }
      },
      "source": [
        "import numpy as np\n",
        "x = np.array([ 2, 0]) \n",
        "print(\"x=\",x)\n",
        "y = np.array([-1,-2]) \n",
        "print(\"y=\",y)"
      ],
      "execution_count": 0,
      "outputs": [
        {
          "output_type": "stream",
          "text": [
            "x= [2 0]\n",
            "y= [-1 -2]\n"
          ],
          "name": "stdout"
        }
      ]
    },
    {
      "cell_type": "code",
      "metadata": {
        "id": "DsgNkN9rNa8B",
        "colab_type": "code",
        "outputId": "c648b583-8826-4b01-973e-f3530cf08366",
        "colab": {
          "base_uri": "https://localhost:8080/",
          "height": 279
        }
      },
      "source": [
        "import matplotlib.pyplot as plt\n",
        "\n",
        "ax = plt.axes()\n",
        "\n",
        "ax.arrow(0.0, 0.0, x[0],x[1], head_width=0.2, head_length=0.3, fc='lightblue', ec='black')\n",
        "ax.arrow(0.0, 0.0, y[0],y[1], head_width=0.2, head_length=0.3, fc='lightblue', ec='black',ls='--')\n",
        "plt.grid()\n",
        "\n",
        "plt.xlim(-3,3)\n",
        "plt.ylim(-3,3)\n",
        "\n",
        "plt.title('Inner Product and Plotting',fontsize=10)\n",
        "\n",
        "plt.show()\n",
        "plt.close()"
      ],
      "execution_count": 0,
      "outputs": [
        {
          "output_type": "display_data",
          "data": {
            "image/png": "[encoded data removed]",
            "text/plain": [
              "<Figure size 432x288 with 1 Axes>"
            ]
          },
          "metadata": {
            "tags": []
          }
        }
      ]
    },
    {
      "cell_type": "markdown",
      "metadata": {
        "id": "yLgRBqc-UUkX",
        "colab_type": "text"
      },
      "source": [
        "# Distance between boolean vectors"
      ]
    },
    {
      "cell_type": "code",
      "metadata": {
        "id": "g1s-yioiUUHA",
        "colab_type": "code",
        "outputId": "733ad9a8-f8d2-4e55-fb5d-8b840c7e164f",
        "colab": {
          "base_uri": "https://localhost:8080/",
          "height": 67
        }
      },
      "source": [
        "import numpy as np\n",
        "x = np.random.randint(2, size=10) \n",
        "print(\"x =\",x)\n",
        "y = np.random.randint(2, size=10) \n",
        "print(\"y =\",y)\n",
        "print(\"2-norm = \",np.linalg.norm(x-y,2))\n",
        "#print(np.linalg.norm(x-y,2)**2)"
      ],
      "execution_count": 0,
      "outputs": [
        {
          "output_type": "stream",
          "text": [
            "x = [0 1 0 0 0 0 0 0 1 1]\n",
            "y = [1 0 0 1 1 0 1 1 0 1]\n",
            "2-norm =  2.6457513110645907\n"
          ],
          "name": "stdout"
        }
      ]
    },
    {
      "cell_type": "code",
      "metadata": {
        "id": "y5mrlQcWN3kP",
        "colab_type": "code",
        "colab": {}
      },
      "source": [
        "from scipy.spatial import distance\n",
        "print(distance.hamming(x, y, w=None)*np.size(x))"
      ],
      "execution_count": 0,
      "outputs": []
    },
    {
      "cell_type": "markdown",
      "metadata": {
        "id": "69ZK0LjHd7Ge",
        "colab_type": "text"
      },
      "source": [
        "#Multiplication by diagonal matrix"
      ]
    },
    {
      "cell_type": "code",
      "metadata": {
        "id": "2CPnX60LWJM3",
        "colab_type": "code",
        "outputId": "a16d47c0-e32a-4721-de02-73a6006b992d",
        "colab": {
          "base_uri": "https://localhost:8080/",
          "height": 151
        }
      },
      "source": [
        "import numpy as np\n",
        "A = np.reshape(np.arange(1,10),[3,3])\n",
        "print(A)\n",
        "D = np.diag([0,10,100])\n",
        "print(\"\\nDot product with [0 10 100] =\")\n",
        "print(np.dot(D,A))\n",
        "#print(np.dot(A,D))"
      ],
      "execution_count": 0,
      "outputs": [
        {
          "output_type": "stream",
          "text": [
            "[[1 2 3]\n",
            " [4 5 6]\n",
            " [7 8 9]]\n",
            "\n",
            "Dot product with [0 10 100] =\n",
            "[[  0   0   0]\n",
            " [ 40  50  60]\n",
            " [700 800 900]]\n"
          ],
          "name": "stdout"
        }
      ]
    },
    {
      "cell_type": "markdown",
      "metadata": {
        "id": "2Mxd1x8akXAT",
        "colab_type": "text"
      },
      "source": [
        "#Trace of a square matrix"
      ]
    },
    {
      "cell_type": "code",
      "metadata": {
        "id": "UUytYxnGgeTF",
        "colab_type": "code",
        "outputId": "271a6603-2215-4cd8-a75f-9d06296f89f8",
        "colab": {
          "base_uri": "https://localhost:8080/",
          "height": 118
        }
      },
      "source": [
        "import numpy as np\n",
        "A = np.reshape(np.arange(1,10),[3,3])\n",
        "print(A)\n",
        "\n",
        "\n",
        "print(\"trace(A)=\", np.trace(A))\n",
        "print(np.trace(3*A))\n",
        "print(np.trace(A.T))\n",
        "\n"
      ],
      "execution_count": 0,
      "outputs": [
        {
          "output_type": "stream",
          "text": [
            "[[1 2 3]\n",
            " [4 5 6]\n",
            " [7 8 9]]\n",
            "trace(A)= 15\n",
            "45\n",
            "15\n"
          ],
          "name": "stdout"
        }
      ]
    },
    {
      "cell_type": "code",
      "metadata": {
        "id": "tmg75GLylFqj",
        "colab_type": "code",
        "colab": {}
      },
      "source": [
        "B = np.reshape(np.arange(9,18),[3,3])\n",
        "print(B)\n",
        "print(np.trace(B))\n",
        "print(np.trace(A+B))\n",
        "\n",
        "\n"
      ],
      "execution_count": 0,
      "outputs": []
    },
    {
      "cell_type": "code",
      "metadata": {
        "id": "2OfO8ZTJlp8I",
        "colab_type": "code",
        "colab": {}
      },
      "source": [
        "print(np.trace(np.dot(A,B)))\n",
        "print(np.trace(np.dot(B,A)))"
      ],
      "execution_count": 0,
      "outputs": []
    },
    {
      "cell_type": "code",
      "metadata": {
        "id": "WYVV93E5lyo7",
        "colab_type": "code",
        "colab": {}
      },
      "source": [
        "print(np.sqrt(np.trace(np.dot(A,A.T))))\n",
        "print(np.linalg.norm(A,'fro'))"
      ],
      "execution_count": 0,
      "outputs": []
    },
    {
      "cell_type": "code",
      "metadata": {
        "id": "ucehMQWqmWTL",
        "colab_type": "code",
        "colab": {}
      },
      "source": [
        "print(np.trace(np.dot(A,B.T)))\n",
        "print(np.dot(A.flatten('F'),B.flatten('F')))"
      ],
      "execution_count": 0,
      "outputs": []
    },
    {
      "cell_type": "markdown",
      "metadata": {
        "id": "tLHZzrTgnvXB",
        "colab_type": "text"
      },
      "source": [
        "#Eigenvalues and Eigenvectors"
      ]
    },
    {
      "cell_type": "code",
      "metadata": {
        "id": "mhj8Dtpbo5Fx",
        "colab_type": "code",
        "outputId": "99fa6b7f-504c-4f61-efa0-6c1fdf14fad5",
        "colab": {
          "base_uri": "https://localhost:8080/",
          "height": 50
        }
      },
      "source": [
        "import numpy as np\n",
        "A = np.array([[1,-1],[2,4]])\n",
        "print(A)\n"
      ],
      "execution_count": 0,
      "outputs": [
        {
          "output_type": "stream",
          "text": [
            "[[ 1 -1]\n",
            " [ 2  4]]\n"
          ],
          "name": "stdout"
        }
      ]
    },
    {
      "cell_type": "code",
      "metadata": {
        "id": "l1PkN2mUpjMW",
        "colab_type": "code",
        "outputId": "867fb7b2-2f4b-480b-f0cc-270decdb1bfc",
        "colab": {
          "base_uri": "https://localhost:8080/",
          "height": 118
        }
      },
      "source": [
        "eValues,eVectors = np.linalg.eig(A)\n",
        "print(eValues,eVectors)\n",
        "print(\"\\n\",np.sum(eValues),np.prod(eValues))\n",
        "\n",
        "print(\"\\n\",np.trace(A),np.linalg.det(A))"
      ],
      "execution_count": 0,
      "outputs": [
        {
          "output_type": "stream",
          "text": [
            "[2. 3.] [[-0.70710678  0.4472136 ]\n",
            " [ 0.70710678 -0.89442719]]\n",
            "\n",
            " 5.0 6.0\n",
            "\n",
            " 5 6.0\n"
          ],
          "name": "stdout"
        }
      ]
    },
    {
      "cell_type": "code",
      "metadata": {
        "id": "8DedutIRp--g",
        "colab_type": "code",
        "outputId": "f7ae6551-9e6a-478f-d7b6-66da6751837f",
        "colab": {
          "base_uri": "https://localhost:8080/",
          "height": 50
        }
      },
      "source": [
        "B = A-7*np.identity(2)\n",
        "print(B)"
      ],
      "execution_count": 0,
      "outputs": [
        {
          "output_type": "stream",
          "text": [
            "[[-6. -1.]\n",
            " [ 2. -3.]]\n"
          ],
          "name": "stdout"
        }
      ]
    },
    {
      "cell_type": "code",
      "metadata": {
        "id": "G-pZXaQhtK6X",
        "colab_type": "code",
        "outputId": "57751098-53f3-407c-881f-f2d8307ff3b9",
        "colab": {
          "base_uri": "https://localhost:8080/",
          "height": 84
        }
      },
      "source": [
        "eValues,eVectors = np.linalg.eig(B)\n",
        "print(\"\\nEigenValues =\",eValues, \"\\nEigen Vector =\",eVectors)"
      ],
      "execution_count": 0,
      "outputs": [
        {
          "output_type": "stream",
          "text": [
            "\n",
            "EigenValues = [-5. -4.] \n",
            "Eigen Vector = [[-0.70710678  0.4472136 ]\n",
            " [ 0.70710678 -0.89442719]]\n"
          ],
          "name": "stdout"
        }
      ]
    },
    {
      "cell_type": "code",
      "metadata": {
        "id": "O0Aly8g3tpvv",
        "colab_type": "code",
        "outputId": "bcf92eba-29da-45f9-b8bf-b69a3dcc672e",
        "colab": {
          "base_uri": "https://localhost:8080/",
          "height": 51
        }
      },
      "source": [
        "eValues,eVectors = np.linalg.eig(np.linalg.inv(A))\n",
        "print(eValues,eVectors)"
      ],
      "execution_count": 0,
      "outputs": [
        {
          "output_type": "stream",
          "text": [
            "[0.5        0.33333333] [[ 0.70710678 -0.4472136 ]\n",
            " [-0.70710678  0.89442719]]\n"
          ],
          "name": "stdout"
        }
      ]
    },
    {
      "cell_type": "markdown",
      "metadata": {
        "id": "ktIRz_squnFY",
        "colab_type": "text"
      },
      "source": [
        "#Least Squares"
      ]
    },
    {
      "cell_type": "code",
      "metadata": {
        "id": "QXmv6eGYurdc",
        "colab_type": "code",
        "outputId": "0f82c3bb-8f60-4b09-d517-05ff5e63fb27",
        "colab": {
          "base_uri": "https://localhost:8080/",
          "height": 102
        }
      },
      "source": [
        "import numpy as np\n",
        "A = np.array([[2,0],[-1,1],[0,2]])\n",
        "b= np.array([[1],[0],[-1]])\n",
        "print(A,b)"
      ],
      "execution_count": 0,
      "outputs": [
        {
          "output_type": "stream",
          "text": [
            "[[ 2  0]\n",
            " [-1  1]\n",
            " [ 0  2]] [[ 1]\n",
            " [ 0]\n",
            " [-1]]\n"
          ],
          "name": "stdout"
        }
      ]
    },
    {
      "cell_type": "code",
      "metadata": {
        "id": "_Y9uomOovy2m",
        "colab_type": "code",
        "outputId": "becd5ed6-f1b8-4724-bcde-aebd1206c1c3",
        "colab": {
          "base_uri": "https://localhost:8080/",
          "height": 51
        }
      },
      "source": [
        "A_pinv = np.dot(np.linalg.inv(np.dot(A.T,A)),A.T)\n",
        "print(A_pinv)"
      ],
      "execution_count": 0,
      "outputs": [
        {
          "output_type": "stream",
          "text": [
            "[[ 0.41666667 -0.16666667  0.08333333]\n",
            " [ 0.08333333  0.16666667  0.41666667]]\n"
          ],
          "name": "stdout"
        }
      ]
    },
    {
      "cell_type": "code",
      "metadata": {
        "id": "ISlx379bwmTm",
        "colab_type": "code",
        "outputId": "2f63fd53-67a1-47b1-f0f1-e8d9451f53d1",
        "colab": {
          "base_uri": "https://localhost:8080/",
          "height": 51
        }
      },
      "source": [
        "A_pinv_f = np.linalg.pinv(A)\n",
        "print(A_pinv_f)"
      ],
      "execution_count": 0,
      "outputs": [
        {
          "output_type": "stream",
          "text": [
            "[[ 0.41666667 -0.16666667  0.08333333]\n",
            " [ 0.08333333  0.16666667  0.41666667]]\n"
          ],
          "name": "stdout"
        }
      ]
    },
    {
      "cell_type": "code",
      "metadata": {
        "id": "O4XsPOEyxBem",
        "colab_type": "code",
        "outputId": "44e43864-ace5-4ae9-84c9-31523dbdf7ef",
        "colab": {
          "base_uri": "https://localhost:8080/",
          "height": 85
        }
      },
      "source": [
        "print(np.dot(A_pinv,b))\n",
        "print(np.dot(A_pinv_f,b))"
      ],
      "execution_count": 0,
      "outputs": [
        {
          "output_type": "stream",
          "text": [
            "[[ 0.33333333]\n",
            " [-0.33333333]]\n",
            "[[ 0.33333333]\n",
            " [-0.33333333]]\n"
          ],
          "name": "stdout"
        }
      ]
    },
    {
      "cell_type": "code",
      "metadata": {
        "id": "6aK8GpBvxgMe",
        "colab_type": "code",
        "colab": {}
      },
      "source": [
        ""
      ],
      "execution_count": 0,
      "outputs": []
    }
  ]
}